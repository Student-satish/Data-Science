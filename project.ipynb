{
 "cells": [
  {
   "cell_type": "code",
   "execution_count": 20,
   "id": "38d49575-c8eb-4056-9748-7f81b4d1c313",
   "metadata": {},
   "outputs": [
    {
     "name": "stdout",
     "output_type": "stream",
     "text": [
      "{'users': [{'id': 1, 'name': 'Amit', 'friends': [2, 3], 'liked_pages': [101]}, {'id': 2, 'name': 'Priya', 'friends': [1, 4], 'liked_pages': [102]}, {'id': 3, 'name': 'Rahul', 'friends': [1], 'liked_pages': [101, 103]}, {'id': 4, 'name': 'Sara', 'friends': [2], 'liked_pages': [104]}], 'pages': [{'id': 101, 'name': 'Python Developers'}, {'id': 102, 'name': 'Data Science Enthusiasts'}, {'id': 103, 'name': 'AI & ML Community'}, {'id': 104, 'name': 'Web Dev Hub'}]} \n",
      "\n",
      "users and their connections\n",
      "\n",
      "Amit is friends with : [2, 3] and liked_pages are [101]\n",
      "Priya is friends with : [1, 4] and liked_pages are [102]\n",
      "Rahul is friends with : [1] and liked_pages are [101, 103]\n",
      "Sara is friends with : [2] and liked_pages are [104]\n",
      "\n",
      "pages information\n",
      "\n",
      "101:Python Developers\n",
      "102:Data Science Enthusiasts\n",
      "103:AI & ML Community\n",
      "104:Web Dev Hub\n"
     ]
    }
   ],
   "source": [
    "import json\n",
    "# lets write a function to load the data\n",
    "def load_data(filename):\n",
    "    with open(filename,\"r\") as f:\n",
    "        data = json.load(f);\n",
    "    return data;\n",
    "data = load_data(\"data.json\");\n",
    "print(data,\"\\n\");\n",
    "\n",
    "# lets display users and their connection\n",
    "\n",
    "def display_users(data):\n",
    "    print(\"users and their connections\\n\")\n",
    "    for user in data[\"users\"]:\n",
    "        print(f\"{user[\"name\"]} is friends with : {user[\"friends\"]} and liked_pages are {user[\"liked_pages\"]}\");\n",
    "    print(\"\\npages information\\n\");\n",
    "    for page in data[\"pages\"]:\n",
    "        print(f\"{page[\"id\"]}:{page[\"name\"]}\");\n",
    "display_users(data);"
   ]
  }
 ],
 "metadata": {
  "kernelspec": {
   "display_name": "Python [conda env:base] *",
   "language": "python",
   "name": "conda-base-py"
  },
  "language_info": {
   "codemirror_mode": {
    "name": "ipython",
    "version": 3
   },
   "file_extension": ".py",
   "mimetype": "text/x-python",
   "name": "python",
   "nbconvert_exporter": "python",
   "pygments_lexer": "ipython3",
   "version": "3.13.5"
  }
 },
 "nbformat": 4,
 "nbformat_minor": 5
}

{
 "cells": [
  {
   "cell_type": "code",
   "execution_count": 5,
   "id": "618b47ea-109c-45fd-973e-b8176b033633",
   "metadata": {},
   "outputs": [
    {
     "name": "stdout",
     "output_type": "stream",
     "text": [
      "256\n"
     ]
    }
   ],
   "source": [
    "result = 2 ** 2 ** 3\n",
    "print(result);"
   ]
  },
  {
   "cell_type": "code",
   "execution_count": 8,
   "id": "37a6bbc9-460e-436a-83b2-01f4558bba0e",
   "metadata": {},
   "outputs": [
    {
     "name": "stdout",
     "output_type": "stream",
     "text": [
      "1\n"
     ]
    }
   ],
   "source": [
    "result = 3 // 3 * 5 % 2;\n",
    "print(result)"
   ]
  },
  {
   "cell_type": "code",
   "execution_count": null,
   "id": "a2b09848-fad2-405d-bf3a-f9ee14bf4876",
   "metadata": {},
   "outputs": [],
   "source": [
    "# exponentiation is evauluated from right to left\n",
    "# * / // % is evualuated from left to right\n",
    "# + - subtraction is evaluated from left to right"
   ]
  },
  {
   "cell_type": "code",
   "execution_count": 10,
   "id": "ae597149-f7b7-4407-9136-d9b8f54defa3",
   "metadata": {},
   "outputs": [
    {
     "name": "stdout",
     "output_type": "stream",
     "text": [
      "1\n"
     ]
    }
   ],
   "source": [
    "result = 2 - 4 + 3\n",
    "print(result);"
   ]
  },
  {
   "cell_type": "code",
   "execution_count": 12,
   "id": "53be60d0-5120-4c9e-91f5-25d3c46030b5",
   "metadata": {},
   "outputs": [
    {
     "name": "stdout",
     "output_type": "stream",
     "text": [
      "0\n"
     ]
    }
   ],
   "source": [
    "result = 7 % 2 // 3 * 9\n",
    "print(result);"
   ]
  }
 ],
 "metadata": {
  "kernelspec": {
   "display_name": "Python [conda env:base] *",
   "language": "python",
   "name": "conda-base-py"
  },
  "language_info": {
   "codemirror_mode": {
    "name": "ipython",
    "version": 3
   },
   "file_extension": ".py",
   "mimetype": "text/x-python",
   "name": "python",
   "nbconvert_exporter": "python",
   "pygments_lexer": "ipython3",
   "version": "3.13.5"
  }
 },
 "nbformat": 4,
 "nbformat_minor": 5
}

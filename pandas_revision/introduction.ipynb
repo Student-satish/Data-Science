{
 "cells": [
  {
   "cell_type": "code",
   "execution_count": 1,
   "id": "1a9c0512-d218-481e-947f-e2e50db2745e",
   "metadata": {},
   "outputs": [],
   "source": [
    "# pandas is a python lirbrary used for data manipulation , cleaning , analysis\n",
    "# pandas has two main data structures 1) Series 2)DataFrame\n",
    "# pandas saves time , reduces code , increases readabiliy\n",
    "# Series is one dimensional labeled array \n",
    "# DataFrame is a two dimnesional labeled table"
   ]
  },
  {
   "cell_type": "code",
   "execution_count": 2,
   "id": "d38e1c56-3238-48f8-9b61-869489c54d36",
   "metadata": {},
   "outputs": [],
   "source": [
    " import pandas as pd"
   ]
  },
  {
   "cell_type": "code",
   "execution_count": 6,
   "id": "03568531-98f5-4572-9555-530458411063",
   "metadata": {},
   "outputs": [],
   "source": [
    "s = pd.Series([1,2,3,4,5]);"
   ]
  },
  {
   "cell_type": "code",
   "execution_count": 7,
   "id": "b7a61058-0356-4e50-a411-67b95931ca4c",
   "metadata": {},
   "outputs": [
    {
     "name": "stdout",
     "output_type": "stream",
     "text": [
      "0    1\n",
      "1    2\n",
      "2    3\n",
      "3    4\n",
      "4    5\n",
      "dtype: int64\n"
     ]
    }
   ],
   "source": [
    "print(s);"
   ]
  },
  {
   "cell_type": "code",
   "execution_count": 8,
   "id": "19784c70-2a5f-4567-8d3b-2dbd886185ea",
   "metadata": {},
   "outputs": [],
   "source": [
    "# custom indexing\n",
    "s = pd.Series([10,20,30],index=[\"a\",\"b\",\"c\"]);"
   ]
  },
  {
   "cell_type": "code",
   "execution_count": 9,
   "id": "2e5347e8-c9a5-4621-b349-db56452cdd55",
   "metadata": {},
   "outputs": [
    {
     "name": "stdout",
     "output_type": "stream",
     "text": [
      "a    10\n",
      "b    20\n",
      "c    30\n",
      "dtype: int64\n"
     ]
    }
   ],
   "source": [
    "print(s);"
   ]
  },
  {
   "cell_type": "code",
   "execution_count": 10,
   "id": "8fa3440e-8e45-4549-9e76-92a2a6065603",
   "metadata": {},
   "outputs": [
    {
     "name": "stdout",
     "output_type": "stream",
     "text": [
      "<class 'pandas.core.series.Series'>\n"
     ]
    }
   ],
   "source": [
    "print(type(s));"
   ]
  },
  {
   "cell_type": "code",
   "execution_count": 11,
   "id": "b3b1fbd7-a350-4237-89ca-4a330e55da10",
   "metadata": {},
   "outputs": [
    {
     "name": "stdout",
     "output_type": "stream",
     "text": [
      "30\n"
     ]
    },
    {
     "name": "stderr",
     "output_type": "stream",
     "text": [
      "C:\\Users\\Admin\\AppData\\Local\\Temp\\ipykernel_8028\\665496240.py:1: FutureWarning: Series.__getitem__ treating keys as positions is deprecated. In a future version, integer keys will always be treated as labels (consistent with DataFrame behavior). To access a value by position, use `ser.iloc[pos]`\n",
      "  print(s[2]);\n"
     ]
    }
   ],
   "source": [
    "print(s[2]);"
   ]
  },
  {
   "cell_type": "code",
   "execution_count": 13,
   "id": "8bdaa9d0-7c1b-4ab0-ac96-4cc080c4ce5e",
   "metadata": {},
   "outputs": [
    {
     "name": "stdout",
     "output_type": "stream",
     "text": [
      "10\n"
     ]
    }
   ],
   "source": [
    "print(s[\"a\"]);"
   ]
  },
  {
   "cell_type": "code",
   "execution_count": 14,
   "id": "581d5562-9ab1-413e-a3f3-989cec3546e2",
   "metadata": {},
   "outputs": [
    {
     "name": "stdout",
     "output_type": "stream",
     "text": [
      "30\n"
     ]
    }
   ],
   "source": [
    "# position based access iloc \n",
    "print(s.iloc[2]);"
   ]
  },
  {
   "cell_type": "code",
   "execution_count": 15,
   "id": "409a4d70-fbd6-4136-834a-8d0c1a8b4c79",
   "metadata": {},
   "outputs": [
    {
     "name": "stdout",
     "output_type": "stream",
     "text": [
      "10\n"
     ]
    }
   ],
   "source": [
    "# label based access loc\n",
    "print(s.loc[\"a\"]);"
   ]
  },
  {
   "cell_type": "code",
   "execution_count": 16,
   "id": "0ee56d14-8582-4951-b789-4e678dcf1529",
   "metadata": {},
   "outputs": [],
   "source": [
    "# vectorized operations\n",
    "s = pd.Series([1,2,3,4,5]);"
   ]
  },
  {
   "cell_type": "code",
   "execution_count": 17,
   "id": "11d9e60f-3cd3-4600-b6d9-9d5afa004b82",
   "metadata": {},
   "outputs": [
    {
     "name": "stdout",
     "output_type": "stream",
     "text": [
      "0    1\n",
      "1    2\n",
      "2    3\n",
      "3    4\n",
      "4    5\n",
      "dtype: int64\n"
     ]
    }
   ],
   "source": [
    "print(s);"
   ]
  },
  {
   "cell_type": "code",
   "execution_count": 18,
   "id": "997751b7-bab4-4e8e-b1be-4c75fa60efcb",
   "metadata": {},
   "outputs": [
    {
     "name": "stdout",
     "output_type": "stream",
     "text": [
      "0     6\n",
      "1     7\n",
      "2     8\n",
      "3     9\n",
      "4    10\n",
      "dtype: int64\n",
      "0     1\n",
      "1     4\n",
      "2     9\n",
      "3    16\n",
      "4    25\n",
      "dtype: int64\n"
     ]
    }
   ],
   "source": [
    "# arithmentic operations on a Series data structure\n",
    "print(s+5);\n",
    "print(s ** 2);"
   ]
  },
  {
   "cell_type": "code",
   "execution_count": 19,
   "id": "8b8e12b9-a0a0-492c-a126-fd7ebb8cdac7",
   "metadata": {},
   "outputs": [],
   "source": [
    "# element wise operations between two Series\n",
    "s1 = pd.Series([1,2,3,4,5]);"
   ]
  },
  {
   "cell_type": "code",
   "execution_count": 20,
   "id": "a090558f-7b8e-4d92-a45b-7695ea2dff22",
   "metadata": {},
   "outputs": [
    {
     "name": "stdout",
     "output_type": "stream",
     "text": [
      "0     2\n",
      "1     4\n",
      "2     6\n",
      "3     8\n",
      "4    10\n",
      "dtype: int64\n"
     ]
    }
   ],
   "source": [
    "print(s1+s);"
   ]
  },
  {
   "cell_type": "code",
   "execution_count": 21,
   "id": "64661a72-3f30-44af-ba3a-a2682be6583c",
   "metadata": {},
   "outputs": [
    {
     "name": "stdout",
     "output_type": "stream",
     "text": [
      "0     1\n",
      "1     4\n",
      "2     9\n",
      "3    16\n",
      "4    25\n",
      "dtype: int64\n"
     ]
    }
   ],
   "source": [
    "print(s1 * s);"
   ]
  },
  {
   "cell_type": "code",
   "execution_count": 22,
   "id": "bd7bd07d-fccd-429e-83eb-b76a880999bf",
   "metadata": {},
   "outputs": [
    {
     "name": "stdout",
     "output_type": "stream",
     "text": [
      "0    1\n",
      "1    1\n",
      "2    1\n",
      "3    1\n",
      "4    1\n",
      "dtype: int64\n"
     ]
    }
   ],
   "source": [
    "print(s1 // s);"
   ]
  },
  {
   "cell_type": "code",
   "execution_count": 23,
   "id": "1bf3d958-488f-4cab-8790-61b9b38999ac",
   "metadata": {},
   "outputs": [
    {
     "name": "stdout",
     "output_type": "stream",
     "text": [
      "0    1.0\n",
      "1    1.0\n",
      "2    1.0\n",
      "3    1.0\n",
      "4    1.0\n",
      "dtype: float64\n"
     ]
    }
   ],
   "source": [
    "print(s1 / s);"
   ]
  },
  {
   "cell_type": "code",
   "execution_count": 29,
   "id": "59bda0ef-34e7-4726-b6b3-b28349d8ca30",
   "metadata": {},
   "outputs": [
    {
     "name": "stdout",
     "output_type": "stream",
     "text": [
      "0    False\n",
      "1    False\n",
      "2     True\n",
      "3     True\n",
      "4     True\n",
      "dtype: bool\n"
     ]
    }
   ],
   "source": [
    "# boolean comparisions\n",
    "print(s > 2);"
   ]
  },
  {
   "cell_type": "code",
   "execution_count": 30,
   "id": "71775a7b-acd8-4ee5-849a-a77356614951",
   "metadata": {},
   "outputs": [
    {
     "name": "stdout",
     "output_type": "stream",
     "text": [
      "2    3\n",
      "3    4\n",
      "4    5\n",
      "dtype: int64\n"
     ]
    }
   ],
   "source": [
    "# filtering\n",
    "print(s[s > 2]);"
   ]
  },
  {
   "cell_type": "code",
   "execution_count": 31,
   "id": "8705ea65-1e4d-4397-bb88-d9b968b351d1",
   "metadata": {},
   "outputs": [
    {
     "name": "stdout",
     "output_type": "stream",
     "text": [
      "0    1\n",
      "1    2\n",
      "2    3\n",
      "3    4\n",
      "4    5\n",
      "dtype: int64\n"
     ]
    }
   ],
   "source": [
    "print(s);"
   ]
  },
  {
   "cell_type": "code",
   "execution_count": null,
   "id": "1ff4f1e0-7d3b-4132-a992-cccc9b7a1677",
   "metadata": {},
   "outputs": [],
   "source": []
  }
 ],
 "metadata": {
  "kernelspec": {
   "display_name": "Python [conda env:base] *",
   "language": "python",
   "name": "conda-base-py"
  },
  "language_info": {
   "codemirror_mode": {
    "name": "ipython",
    "version": 3
   },
   "file_extension": ".py",
   "mimetype": "text/x-python",
   "name": "python",
   "nbconvert_exporter": "python",
   "pygments_lexer": "ipython3",
   "version": "3.13.5"
  }
 },
 "nbformat": 4,
 "nbformat_minor": 5
}

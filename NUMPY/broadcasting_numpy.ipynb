{
 "cells": [
  {
   "cell_type": "code",
   "execution_count": 2,
   "id": "f3ed7138-ccda-43d5-89a7-ff8de2a7f781",
   "metadata": {},
   "outputs": [
    {
     "name": "stdout",
     "output_type": "stream",
     "text": [
      "[11 12 13 14 15]\n",
      "[ 4  6  8 10 12]\n",
      "[[ 4  6  8]\n",
      " [ 7  9 11]]\n"
     ]
    }
   ],
   "source": [
    "# broadcasting with a scalar\n",
    "\n",
    "import numpy as np\n",
    "\n",
    "arr1 = np.array([1,2,3,4,5]);\n",
    "\n",
    "result = arr1 + 10;\n",
    "\n",
    "print(result);\n",
    "\n",
    "# broadcasting with two arrays\n",
    "\n",
    "arr2 = np.array([3,4,5,6,7]);\n",
    "\n",
    "res = arr1 + arr2;\n",
    "\n",
    "print(res);\n",
    "\n",
    "# broadcasting a 2d array with 1d array\n",
    "\n",
    "arr3 = np.array([[1,2,3],[4,5,6]]);\n",
    "\n",
    "arr4 = np.array([3,4,5]);\n",
    "\n",
    "result = arr3 + arr4;\n",
    "\n",
    "print(result);"
   ]
  },
  {
   "cell_type": "code",
   "execution_count": 6,
   "id": "4081f571-c253-4b8c-a6fb-fbe6ca49e175",
   "metadata": {},
   "outputs": [
    {
     "name": "stdout",
     "output_type": "stream",
     "text": [
      "[[1 2 3]\n",
      " [4 5 6]\n",
      " [7 8 9]]\n",
      "[4. 5. 6.]\n",
      "[2.44948974 2.44948974 2.44948974]\n",
      "[[-1.22474487 -1.22474487 -1.22474487]\n",
      " [ 0.          0.          0.        ]\n",
      " [ 1.22474487  1.22474487  1.22474487]]\n"
     ]
    }
   ],
   "source": [
    "# normalizing data using broadcasting\n",
    "import numpy as np\n",
    "\n",
    "data = np.array([[1,2,3],[4,5,6],[7,8,9]]);\n",
    "print(data);\n",
    "\n",
    "mean = data.mean(axis=0);\n",
    "print(mean);\n",
    "std = data.std(axis=0);\n",
    "print(std);\n",
    "\n",
    "normalized_data = (data-mean)/std;\n",
    "print(normalized_data);\n"
   ]
  }
 ],
 "metadata": {
  "kernelspec": {
   "display_name": "Python [conda env:base] *",
   "language": "python",
   "name": "conda-base-py"
  },
  "language_info": {
   "codemirror_mode": {
    "name": "ipython",
    "version": 3
   },
   "file_extension": ".py",
   "mimetype": "text/x-python",
   "name": "python",
   "nbconvert_exporter": "python",
   "pygments_lexer": "ipython3",
   "version": "3.13.5"
  }
 },
 "nbformat": 4,
 "nbformat_minor": 5
}

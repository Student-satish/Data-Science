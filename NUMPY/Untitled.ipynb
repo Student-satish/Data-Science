{
 "cells": [
  {
   "cell_type": "code",
   "execution_count": 9,
   "id": "32728fe6-bc1e-4341-b6b7-a07915798a52",
   "metadata": {},
   "outputs": [
    {
     "name": "stdout",
     "output_type": "stream",
     "text": [
      "0.00028777122497558594\n",
      "0.0004105567932128906\n"
     ]
    }
   ],
   "source": [
    "# numpy vs python lists\n",
    "\n",
    "\n",
    "# adding two lists in python\n",
    "import numpy as np;\n",
    "import time;\n",
    "size = 100;\n",
    "list1 = list(range(size));\n",
    "list2 = list(range(size));\n",
    "\n",
    "start = time.time();\n",
    "result = [x + y for x , y in zip(list1,list2)];\n",
    "end = time.time();\n",
    "print(end-start);\n",
    "\n",
    "\n",
    "# numpy array\n",
    "\n",
    "arr1 = np.array(list1);\n",
    "arr2 = np.array(list2);\n",
    "\n",
    "start = time.time();\n",
    "result = arr1 + arr2;\n",
    "end = time.time();\n",
    "print(end-start);\n",
    "\n",
    "\n"
   ]
  },
  {
   "cell_type": "code",
   "execution_count": 14,
   "id": "89358a16-2a2b-4aa1-9c5f-342f986931f4",
   "metadata": {},
   "outputs": [
    {
     "name": "stdout",
     "output_type": "stream",
     "text": [
      "[1 2 3 4 5]\n",
      "[[1 2 3]\n",
      " [4 5 6]]\n",
      "<class 'numpy.ndarray'>\n",
      "(5,)\n",
      "(2, 3)\n"
     ]
    }
   ],
   "source": [
    "import numpy as np\n",
    "\n",
    "# creating a 1D Numpy array\n",
    "\n",
    "arr1 = np.array([1,2,3,4,5]);\n",
    "print(arr1);\n",
    "\n",
    "# creating a 2d Nump array\n",
    "\n",
    "arr2 = np.array([[1,2,3],[4,5,6]]);\n",
    "\n",
    "print(arr2);\n",
    "\n",
    "# checking type and shape\n",
    "print(type(arr1));\n",
    "print(arr1.shape);\n",
    "print(arr2.shape);"
   ]
  },
  {
   "cell_type": "code",
   "execution_count": 17,
   "id": "6ba05f3f-9c8e-431a-aa81-3937134c4cbb",
   "metadata": {},
   "outputs": [
    {
     "name": "stdout",
     "output_type": "stream",
     "text": [
      "8056\n",
      "8000\n"
     ]
    }
   ],
   "source": [
    "# memory efficiency - numpy vs lists\n",
    "\n",
    "import sys\n",
    "\n",
    "list_data = list(range(1000));\n",
    "\n",
    "numpy_data = np.array(list_data);\n",
    "\n",
    "\n",
    "print(sys.getsizeof(list_data));\n",
    "print(numpy_data.nbytes);\n",
    "\n",
    "\n",
    "\n"
   ]
  },
  {
   "cell_type": "code",
   "execution_count": 4,
   "id": "829af74b-c892-458e-aa94-66e6188d1ab4",
   "metadata": {},
   "outputs": [
    {
     "name": "stdout",
     "output_type": "stream",
     "text": [
      "[ 1  4  9 16 25]\n",
      "[1, 4, 9, 16, 25]\n",
      "[ 10  11  12  13  14  15  16  17  18  19  20  21  22  23  24  25  26  27\n",
      "  28  29  30  31  32  33  34  35  36  37  38  39  40  41  42  43  44  45\n",
      "  46  47  48  49  50  51  52  53  54  55  56  57  58  59  60  61  62  63\n",
      "  64  65  66  67  68  69  70  71  72  73  74  75  76  77  78  79  80  81\n",
      "  82  83  84  85  86  87  88  89  90  91  92  93  94  95  96  97  98  99\n",
      " 100]\n"
     ]
    }
   ],
   "source": [
    "# vectorization no more loops\n",
    "import numpy as np\n",
    "my_list = [1,2,3,4,5];\n",
    "\n",
    "list_squares = [x ** 2 for x in my_list];\n",
    "\n",
    "arr = np.array(my_list);\n",
    "\n",
    "numpy_squares = arr ** 2;\n",
    "\n",
    "print(numpy_squares);\n",
    "print(list_squares);\n",
    "temp = list(range(10,101));\n",
    "arr = np.array(temp);\n",
    "print(arr);"
   ]
  },
  {
   "cell_type": "code",
   "execution_count": 6,
   "id": "61cd5aa1-634f-456f-9697-94fe4945b7ed",
   "metadata": {},
   "outputs": [
    {
     "name": "stdout",
     "output_type": "stream",
     "text": [
      "0.0003209114074707031\n",
      "[3, 8, 15, 24]\n",
      "[ 3  8 15 24]\n",
      "0.0002455711364746094\n"
     ]
    }
   ],
   "source": [
    "# practice\n",
    "\n",
    "import numpy as np\n",
    "import time;\n",
    "\n",
    "list1 = [1,2,3,4];\n",
    "list2 = [3,4,5,6];\n",
    "start = time.time(); \n",
    "res1 = [x * y for x,y in zip(list1,list2)];\n",
    "end = time.time();\n",
    "print(end-start);\n",
    "print(res1);\n",
    "\n",
    "arr1 = np.array(list1);\n",
    "arr2 = np.array(list2);\n",
    "start = time.time();\n",
    "res2 = arr1 * arr2;\n",
    "end = time.time();\n",
    "print(res2);\n",
    "print(end - start);\n",
    "\n"
   ]
  }
 ],
 "metadata": {
  "kernelspec": {
   "display_name": "Python [conda env:base] *",
   "language": "python",
   "name": "conda-base-py"
  },
  "language_info": {
   "codemirror_mode": {
    "name": "ipython",
    "version": 3
   },
   "file_extension": ".py",
   "mimetype": "text/x-python",
   "name": "python",
   "nbconvert_exporter": "python",
   "pygments_lexer": "ipython3",
   "version": "3.13.5"
  }
 },
 "nbformat": 4,
 "nbformat_minor": 5
}

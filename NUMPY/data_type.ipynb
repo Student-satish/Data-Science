{
 "cells": [
  {
   "cell_type": "code",
   "execution_count": 1,
   "id": "54c3d593-e065-4526-9979-2c28cff98026",
   "metadata": {},
   "outputs": [
    {
     "name": "stdout",
     "output_type": "stream",
     "text": [
      "int64\n",
      "int32\n",
      "[1 2 3]\n",
      "int64\n",
      "float64\n",
      "[1 2 5]\n"
     ]
    }
   ],
   "source": [
    "import numpy as np\n",
    "arr = np.array([1,2,3]);\n",
    "print(arr.dtype);\n",
    "\n",
    "\n",
    "# changing data types\n",
    "\n",
    "# converting int64 to int32\n",
    "\n",
    "arr1 = arr.astype(np.int32);\n",
    "print(arr1.dtype);\n",
    "print(arr1);\n",
    "print(arr.dtype);\n",
    "\n",
    "# converting float to int\n",
    "\n",
    "arr2 =  np.array([1.1,2.5,5.6]);\n",
    "print(arr2.dtype);\n",
    "arr3 = arr2.astype(np.int32);\n",
    "print(arr3);"
   ]
  },
  {
   "cell_type": "code",
   "execution_count": 4,
   "id": "de6af81f-f1b4-44dc-9fb3-c0c5f9f08c1c",
   "metadata": {},
   "outputs": [
    {
     "name": "stdout",
     "output_type": "stream",
     "text": [
      "int64\n",
      "int64\n",
      "40\n",
      "40\n"
     ]
    }
   ],
   "source": [
    "# memory usage\n",
    "import numpy as np\n",
    "arr1 = np.array([1,2,3,4,5]);\n",
    "arr2 = np.array([4,5,6,7,8]);\n",
    "\n",
    "print(arr1.dtype);\n",
    "print(arr2.dtype);\n",
    "\n",
    "\n",
    "print(arr1.nbytes);\n",
    "print(arr2.nbytes);"
   ]
  },
  {
   "cell_type": "code",
   "execution_count": 12,
   "id": "8747eb15-2ab5-4f88-ba57-d37f65727875",
   "metadata": {},
   "outputs": [
    {
     "name": "stdout",
     "output_type": "stream",
     "text": [
      "['appleabdddddddddddddsatishsatishsatishsathishsatish' 'banana' 'cherry']\n",
      "<U51\n"
     ]
    }
   ],
   "source": [
    "# string data type in numpy\n",
    "# data type = 'U10' every string can have at max 10 characters\n",
    "\n",
    "arr = np.array(['appleabdddddddddddddsatishsatishsatishsathishsatish','banana','cherry'], dtype='str');\n",
    "print(arr)\n",
    "print(arr.dtype);"
   ]
  },
  {
   "cell_type": "code",
   "execution_count": 15,
   "id": "b6a40761-0ffd-4b24-844f-3ef1cb2d23f2",
   "metadata": {},
   "outputs": [
    {
     "name": "stdout",
     "output_type": "stream",
     "text": [
      "[1.+2.j 2.+3.j 3.+3.j]\n",
      "complex64\n"
     ]
    }
   ],
   "source": [
    "# complex number data type\n",
    "import numpy as np\n",
    "\n",
    "arr = np.array([1+2j,2+3j,3+3j] ,dtype='complex64');\n",
    "print(arr);\n",
    "print(arr.dtype);\n"
   ]
  },
  {
   "cell_type": "code",
   "execution_count": 17,
   "id": "0e050678-7db0-45af-8df4-ad75c2ec772e",
   "metadata": {},
   "outputs": [
    {
     "name": "stdout",
     "output_type": "stream",
     "text": [
      "[list([1, 2, 3]) {1: 'a'} 'satish']\n"
     ]
    }
   ],
   "source": [
    "# object data type\n",
    "\n",
    "import numpy as np\n",
    "\n",
    "arr = np.array([[1,2,3],{1:'a'},\"satish\"],dtype='object');\n",
    "print(arr);\n"
   ]
  }
 ],
 "metadata": {
  "kernelspec": {
   "display_name": "Python [conda env:base] *",
   "language": "python",
   "name": "conda-base-py"
  },
  "language_info": {
   "codemirror_mode": {
    "name": "ipython",
    "version": 3
   },
   "file_extension": ".py",
   "mimetype": "text/x-python",
   "name": "python",
   "nbconvert_exporter": "python",
   "pygments_lexer": "ipython3",
   "version": "3.13.5"
  }
 },
 "nbformat": 4,
 "nbformat_minor": 5
}

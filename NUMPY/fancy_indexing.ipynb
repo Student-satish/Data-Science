{
 "cells": [
  {
   "cell_type": "code",
   "execution_count": 5,
   "id": "fed690f3-b724-49e6-bbf2-8d60b02d6105",
   "metadata": {},
   "outputs": [
    {
     "name": "stdout",
     "output_type": "stream",
     "text": [
      "[1 3 5]\n"
     ]
    }
   ],
   "source": [
    "import numpy as np\n",
    "\n",
    "# selecting multiple at the same time\n",
    "\n",
    "arr = np.array([1,2,3,4,5]);\n",
    "\n",
    "idx = [0, 2, 4];\n",
    "\n",
    "print(arr[idx]);\n",
    "\n"
   ]
  },
  {
   "cell_type": "code",
   "execution_count": 8,
   "id": "d935c2f8-6f58-4ca6-9d8b-599e19fc0fcf",
   "metadata": {},
   "outputs": [
    {
     "name": "stdout",
     "output_type": "stream",
     "text": [
      "[False  True  True]\n",
      "[4 5]\n"
     ]
    }
   ],
   "source": [
    "# filter data\n",
    "\n",
    "arr = np.array([3,4,5]);\n",
    "\n",
    "mask = arr > 3;\n",
    "print(mask);\n",
    "print(arr[mask]);\n"
   ]
  },
  {
   "cell_type": "code",
   "execution_count": 19,
   "id": "548beb21-8441-4b5e-b1d0-f6d83d806271",
   "metadata": {},
   "outputs": [
    {
     "name": "stdout",
     "output_type": "stream",
     "text": [
      "(3, 3)\n",
      "int64\n",
      "2\n",
      "9\n",
      "[1.1 2.2 3.3]\n",
      "[1 2 3]\n",
      "[2 4 6]\n",
      "[False  True False  True False  True]\n",
      "[2 4 6]\n",
      "[[1 2 3]\n",
      " [4 5 6]\n",
      " [7 8 9]]\n",
      "[51 52 53 54 55 56 57 58 59 60 61 62 63 64 65 66 67 68 69 70 71 72 73 74\n",
      " 75 76 77 78 79 80 81 82 83 84 85 86 87 88 89 90 91 92 93 94 95 96 97 98\n",
      " 99]\n"
     ]
    }
   ],
   "source": [
    "# practice\n",
    "import numpy as np\n",
    "\n",
    "arr = np.array([[1,2,3],[4,5,6],[7,8,9]]);\n",
    "print(arr.shape);\n",
    "print(arr.dtype);\n",
    "print(arr.ndim);\n",
    "print(arr.size);\n",
    "\n",
    "arr1 = np.array([1.1,2.2,3.3]);\n",
    "print(arr1);\n",
    "arr_int = arr1.astype(np.int32);\n",
    "print(arr_int);\n",
    "\n",
    "arr2 = np.array([1,2,3,4,5,6]);\n",
    "\n",
    "idx = [1,3,5];\n",
    "print(arr2[idx]);\n",
    "\n",
    "mask = arr2 % 2 == 0;\n",
    "print(mask);\n",
    "print(arr2[mask]);\n",
    "\n",
    "arr3 = np.array([1,2,3,4,5,6,7,8,9]);\n",
    "reshaped = arr3.reshape((3,3));\n",
    "print(reshaped);\n",
    "\n",
    "\n",
    "arr4 = np.array(list(range(100)));\n",
    "mask = arr4 > 50;\n",
    "print(arr4[mask]);\n",
    "\n"
   ]
  }
 ],
 "metadata": {
  "kernelspec": {
   "display_name": "Python [conda env:base] *",
   "language": "python",
   "name": "conda-base-py"
  },
  "language_info": {
   "codemirror_mode": {
    "name": "ipython",
    "version": 3
   },
   "file_extension": ".py",
   "mimetype": "text/x-python",
   "name": "python",
   "nbconvert_exporter": "python",
   "pygments_lexer": "ipython3",
   "version": "3.13.5"
  }
 },
 "nbformat": 4,
 "nbformat_minor": 5
}

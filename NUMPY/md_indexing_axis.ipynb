{
 "cells": [
  {
   "cell_type": "code",
   "execution_count": 5,
   "id": "05cd9e82-f860-4b48-abfa-28ba63433649",
   "metadata": {},
   "outputs": [
    {
     "name": "stdout",
     "output_type": "stream",
     "text": [
      "[[1 2 3]\n",
      " [4 5 6]\n",
      " [7 8 9]]\n",
      "[12 15 18]\n",
      "[ 6 15 24]\n"
     ]
    }
   ],
   "source": [
    "import numpy as np\n",
    "\n",
    "arr = np.array([[1,2,3],[4,5,6],[7,8,9]]);\n",
    "\n",
    "print(arr);\n",
    "\n",
    "rowSum = np.sum(arr,axis=0);\n",
    "print(rowSum);\n",
    "\n",
    "colSum = np.sum(arr,axis=1);\n",
    "print(colSum);"
   ]
  },
  {
   "cell_type": "code",
   "execution_count": 1,
   "id": "8bd4859c-0073-4aba-93e7-d4e56a10c7a7",
   "metadata": {},
   "outputs": [
    {
     "name": "stdout",
     "output_type": "stream",
     "text": [
      "6\n",
      "[[2 3]\n",
      " [5 6]]\n",
      "[3 6 9]\n"
     ]
    }
   ],
   "source": [
    "# indexing in multidimensional Arrays\n",
    "\n",
    "import numpy as np\n",
    "\n",
    "arr = np.array([[1,2,3],[4,5,6],[7,8,9]]);\n",
    "\n",
    "print(arr[1,2]);\n",
    "\n",
    "print(arr[0:2,1:3]);\n",
    "\n",
    "print(arr[0:3,2]);"
   ]
  },
  {
   "cell_type": "code",
   "execution_count": 5,
   "id": "4ee7e5b6-725a-4b36-a579-6bbcbb83aa45",
   "metadata": {},
   "outputs": [
    {
     "name": "stdout",
     "output_type": "stream",
     "text": [
      "(2, 2, 3)\n",
      "12\n",
      "[[[1 2 3]\n",
      "  [4 5 6]]\n",
      "\n",
      " [[1 2 3]\n",
      "  [4 5 6]]]\n",
      "5\n"
     ]
    }
   ],
   "source": [
    "import numpy as np\n",
    "arr3D = np.array([[[1,2,3],[4,5,6]],[[1,2,3],[4,5,6]]]);\n",
    "print(arr3D.shape);\n",
    "print(arr3D.size);\n",
    "print(arr3D);\n",
    "print(arr3D[1,1,1]);\n",
    "\n"
   ]
  }
 ],
 "metadata": {
  "kernelspec": {
   "display_name": "Python [conda env:base] *",
   "language": "python",
   "name": "conda-base-py"
  },
  "language_info": {
   "codemirror_mode": {
    "name": "ipython",
    "version": 3
   },
   "file_extension": ".py",
   "mimetype": "text/x-python",
   "name": "python",
   "nbconvert_exporter": "python",
   "pygments_lexer": "ipython3",
   "version": "3.13.5"
  }
 },
 "nbformat": 4,
 "nbformat_minor": 5
}

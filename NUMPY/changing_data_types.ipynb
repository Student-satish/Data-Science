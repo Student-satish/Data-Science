{
 "cells": [
  {
   "cell_type": "code",
   "execution_count": 4,
   "id": "c1c0c7e9-9c2f-4ae7-93b5-ef57e55d0247",
   "metadata": {},
   "outputs": [
    {
     "name": "stdout",
     "output_type": "stream",
     "text": [
      "float32\n",
      "[1. 2. 3.]\n",
      "[1 2 3]\n"
     ]
    }
   ],
   "source": [
    "import numpy as np\n",
    "\n",
    "arr = np.array([1,2,3],dtype=np.float32); # explicit type\n",
    "print(arr.dtype);\n",
    "print(arr);\n",
    "\n",
    "\n",
    "# convert float to int\n",
    "\n",
    "arr_int = arr.astype(np.int32);\n",
    "print(arr_int);\n",
    "\n"
   ]
  },
  {
   "cell_type": "code",
   "execution_count": 14,
   "id": "0036c62d-eb32-4508-aabd-abbc5926d827",
   "metadata": {},
   "outputs": [
    {
     "name": "stdout",
     "output_type": "stream",
     "text": [
      "[[1 2 3]\n",
      " [4 5 6]]\n",
      "(2, 3)\n",
      "[[1 2 3 4 5 6]]\n",
      "[1 2 3 4 5 6]\n"
     ]
    }
   ],
   "source": [
    "# reshaping and flattening arrays\n",
    "\n",
    "arr = np.array([[1,2,3],[4,5,6]]);\n",
    "print(arr);\n",
    "print(arr.shape);\n",
    "\n",
    "reshaped = arr.reshape((1,6));\n",
    "print(reshaped)\n",
    "flattened = arr.flatten(); # convert 2d -> 1D\n",
    "\n",
    "print(flattened);"
   ]
  },
  {
   "cell_type": "code",
   "execution_count": 23,
   "id": "317e375a-ed39-4185-bd3d-4f425906c6a9",
   "metadata": {},
   "outputs": [
    {
     "name": "stdout",
     "output_type": "stream",
     "text": [
      "10\n",
      "40\n",
      "[20 30 40]\n",
      "[10 20 30 40]\n",
      "[10 20 30 40]\n",
      "[10 30]\n",
      "[10 20 30 40]\n",
      "[20 30 40]\n",
      "[10 99 30 40]\n"
     ]
    }
   ],
   "source": [
    "# indexing and slicing\n",
    "arr = np.array([10,20,30,40]);\n",
    "print(arr[0]);\n",
    "print(arr[-1]);\n",
    "\n",
    "# slicing\n",
    "\n",
    "print(arr[1:4]);\n",
    "print(arr[:]);\n",
    "print(arr[:5]);\n",
    "print(arr[::2]);\n",
    "print(arr);\n",
    "\n",
    "sliced = arr[1:4];\n",
    "print(sliced);\n",
    "sliced[0] = 99;\n",
    "print(arr);"
   ]
  }
 ],
 "metadata": {
  "kernelspec": {
   "display_name": "Python [conda env:base] *",
   "language": "python",
   "name": "conda-base-py"
  },
  "language_info": {
   "codemirror_mode": {
    "name": "ipython",
    "version": 3
   },
   "file_extension": ".py",
   "mimetype": "text/x-python",
   "name": "python",
   "nbconvert_exporter": "python",
   "pygments_lexer": "ipython3",
   "version": "3.13.5"
  }
 },
 "nbformat": 4,
 "nbformat_minor": 5
}

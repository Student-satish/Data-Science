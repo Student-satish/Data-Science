{
 "cells": [
  {
   "cell_type": "code",
   "execution_count": 12,
   "id": "be2ae3eb-0060-40ac-b001-b5ed066f41c7",
   "metadata": {},
   "outputs": [
    {
     "name": "stdout",
     "output_type": "stream",
     "text": [
      "3.5\n",
      "1.707825127659933\n",
      "2.9166666666666665\n",
      "1\n",
      "6\n",
      "21\n",
      "[ 4 10 18]\n",
      "3.5\n",
      "5\n",
      "[1 2 3 4 5 6]\n"
     ]
    }
   ],
   "source": [
    "# mathematical functions in numpy\n",
    "\n",
    "import numpy as np\n",
    "\n",
    "arr1 = np.array([[1,2,3],[4,5,6]]);\n",
    "\n",
    "mean = np.mean(arr1);\n",
    "print(mean);\n",
    "\n",
    "std = np.std(arr1);\n",
    "\n",
    "print(std);\n",
    "\n",
    "# variance\n",
    "\n",
    "variance = np.var(arr1);\n",
    "\n",
    "print(variance);\n",
    "\n",
    "# minimum value\n",
    "\n",
    "min = np.min(arr1);\n",
    "\n",
    "print(min);\n",
    "\n",
    "# maximum value\n",
    "\n",
    "max = np.max(arr1);\n",
    "\n",
    "print(max);\n",
    "\n",
    "# sum of all elements in a array\n",
    "\n",
    "sum = np.sum(arr1);\n",
    "\n",
    "print(sum);\n",
    "\n",
    "\n",
    "# product \n",
    "\n",
    "prod = np.prod(arr1,axis=0);\n",
    "\n",
    "print(prod);\n",
    "\n",
    "# median of an array\n",
    "\n",
    "med = np.median(arr1);\n",
    "\n",
    "print(med);\n",
    "\n",
    "# return the index of the maximum value in an array\n",
    "\n",
    "idx = np.argmax(arr1);\n",
    "\n",
    "print(idx);\n",
    "\n",
    "uniqEle = np.unique(arr1);\n",
    "\n",
    "print(uniqEle);"
   ]
  }
 ],
 "metadata": {
  "kernelspec": {
   "display_name": "Python [conda env:base] *",
   "language": "python",
   "name": "conda-base-py"
  },
  "language_info": {
   "codemirror_mode": {
    "name": "ipython",
    "version": 3
   },
   "file_extension": ".py",
   "mimetype": "text/x-python",
   "name": "python",
   "nbconvert_exporter": "python",
   "pygments_lexer": "ipython3",
   "version": "3.13.5"
  }
 },
 "nbformat": 4,
 "nbformat_minor": 5
}

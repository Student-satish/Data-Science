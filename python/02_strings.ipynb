{
 "cells": [
  {
   "cell_type": "code",
   "execution_count": 3,
   "id": "84930767-79cc-4077-bac0-e2f614971892",
   "metadata": {},
   "outputs": [
    {
     "name": "stdout",
     "output_type": "stream",
     "text": [
      "<class 'str'>\n",
      "<class 'str'>\n",
      "my name is satish. \n",
      "i am a btech student.\n",
      "majoring in computer science\n",
      "6\n"
     ]
    }
   ],
   "source": [
    "name = \"satish\";\n",
    "print(type(name));\n",
    "vehicle = 'car';\n",
    "print(type(vehicle));\n",
    "# multiline strings\n",
    "para = \"\"\"my name is satish. \n",
    "i am a btech student.\n",
    "majoring in computer science\"\"\"\n",
    "print(para);\n",
    "print(len(name))\n"
   ]
  },
  {
   "cell_type": "code",
   "execution_count": 9,
   "id": "5dc66cc2-d2e5-4378-a485-53972c6c2ad3",
   "metadata": {},
   "outputs": [
    {
     "name": "stdout",
     "output_type": "stream",
     "text": [
      "a\n",
      "9\n",
      "satish\n",
      " satish  \n",
      "i am 8 years old\n"
     ]
    }
   ],
   "source": [
    "print(name[2])\n",
    "print(len(name));\n",
    "\n",
    "name = \" satish  \"\n",
    "print(name.strip());\n",
    "print(name);\n",
    "age = 8;\n",
    "info = f\"i am {age} years old\"\n",
    "print(info);"
   ]
  },
  {
   "cell_type": "code",
   "execution_count": null,
   "id": "345cfa33-9905-4a40-847d-707d13855690",
   "metadata": {},
   "outputs": [],
   "source": []
  }
 ],
 "metadata": {
  "kernelspec": {
   "display_name": "Python [conda env:base] *",
   "language": "python",
   "name": "conda-base-py"
  },
  "language_info": {
   "codemirror_mode": {
    "name": "ipython",
    "version": 3
   },
   "file_extension": ".py",
   "mimetype": "text/x-python",
   "name": "python",
   "nbconvert_exporter": "python",
   "pygments_lexer": "ipython3",
   "version": "3.13.5"
  }
 },
 "nbformat": 4,
 "nbformat_minor": 5
}

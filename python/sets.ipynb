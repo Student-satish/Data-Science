{
 "cells": [
  {
   "cell_type": "code",
   "execution_count": 3,
   "id": "6a030cb7-6f2e-4ffe-944e-d6ab08c1b95c",
   "metadata": {},
   "outputs": [
    {
     "name": "stdout",
     "output_type": "stream",
     "text": [
      "{1, 3, 22}\n",
      "yes\n"
     ]
    }
   ],
   "source": [
    "items = set();\n",
    "# to add multiple elements to a set\n",
    "items.update([1,22,3]);\n",
    "print(items);\n",
    "if 1 in items:\n",
    "    print(\"yes\");"
   ]
  },
  {
   "cell_type": "code",
   "execution_count": 11,
   "id": "b91a7126-bd78-4fbd-8051-15682596891c",
   "metadata": {},
   "outputs": [
    {
     "name": "stdout",
     "output_type": "stream",
     "text": [
      "{1, 2, 22}\n",
      "{1, 22}\n",
      "{1, 2, 3, 4}\n",
      "{1, 2, 3, 4, 6, 7}\n",
      "{1, 2, 3, 4, 5, 6, 7}\n"
     ]
    }
   ],
   "source": [
    "items.add(2);\n",
    "print(items);\n",
    "items.remove(2);\n",
    "print(items);\n",
    "\n",
    "# add\n",
    "# remove\n",
    "# in\n",
    "# update\n",
    "# set();\n",
    "\n",
    "# another way to create a set\n",
    "\n",
    "set2 = {1,2,3,4};\n",
    "print(set2);\n",
    "set2.update([6,7,2]);\n",
    "print(set2);\n",
    "# to add single element to a set\n",
    "set2.add(5);\n",
    "print(set2);"
   ]
  },
  {
   "cell_type": "code",
   "execution_count": 12,
   "id": "0d57d8bf-cfef-4e7b-9642-1f07a9b648cc",
   "metadata": {},
   "outputs": [
    {
     "name": "stdout",
     "output_type": "stream",
     "text": [
      "False\n",
      "True\n",
      "True\n",
      "False\n"
     ]
    }
   ],
   "source": [
    "temp = [1,2,3,4];\n",
    "set = {2,3,5,6,9};\n",
    "for num in temp:\n",
    "    if num in set:\n",
    "        print(True);\n",
    "    else:\n",
    "        print(False);\n",
    "\n",
    "# in , not in are membership operators"
   ]
  }
 ],
 "metadata": {
  "kernelspec": {
   "display_name": "Python [conda env:base] *",
   "language": "python",
   "name": "conda-base-py"
  },
  "language_info": {
   "codemirror_mode": {
    "name": "ipython",
    "version": 3
   },
   "file_extension": ".py",
   "mimetype": "text/x-python",
   "name": "python",
   "nbconvert_exporter": "python",
   "pygments_lexer": "ipython3",
   "version": "3.13.5"
  }
 },
 "nbformat": 4,
 "nbformat_minor": 5
}

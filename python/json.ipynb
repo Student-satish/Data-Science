{
 "cells": [
  {
   "cell_type": "code",
   "execution_count": 1,
   "id": "91d65ee7-b531-440c-a08b-40d25ce287e6",
   "metadata": {},
   "outputs": [],
   "source": [
    "import json"
   ]
  },
  {
   "cell_type": "code",
   "execution_count": 2,
   "id": "234ffcda-b92d-49c8-a4e9-77f732ea3307",
   "metadata": {},
   "outputs": [],
   "source": [
    "student = {\"name\":\"satish\",\"marks\":60};"
   ]
  },
  {
   "cell_type": "code",
   "execution_count": 15,
   "id": "0e935b7b-de64-4e7b-8f6b-e2634526dede",
   "metadata": {},
   "outputs": [
    {
     "name": "stdout",
     "output_type": "stream",
     "text": [
      "{\"name\": \"satish\", \"marks\": 60}\n",
      "<class 'str'>\n"
     ]
    }
   ],
   "source": [
    "# converts python object to json string\n",
    "obj = json.dumps(student);\n",
    "print(obj);\n",
    "print(type(obj));"
   ]
  },
  {
   "cell_type": "code",
   "execution_count": 14,
   "id": "38005d92-65df-4f1b-9c85-943c6035c8bf",
   "metadata": {},
   "outputs": [
    {
     "name": "stdout",
     "output_type": "stream",
     "text": [
      "<class 'dict'>\n"
     ]
    }
   ],
   "source": [
    "# converts json formated string to python object\n",
    "obj = json.loads(obj);\n",
    "print(type(obj));"
   ]
  },
  {
   "cell_type": "code",
   "execution_count": 24,
   "id": "603c6841-6648-4c66-a405-17635b9b7a3f",
   "metadata": {},
   "outputs": [],
   "source": []
  },
  {
   "cell_type": "code",
   "execution_count": 29,
   "id": "8484cbe2-c617-487f-8bb9-19d03937d44c",
   "metadata": {
    "scrolled": true
   },
   "outputs": [],
   "source": [
    "import json;\n",
    "file = open(\"hello.json\",\"w\");\n",
    "json.dump({\"name\":\"satish\",\"marks\":60},file);\n",
    "file.close();"
   ]
  },
  {
   "cell_type": "code",
   "execution_count": 26,
   "id": "79df3420-5836-4758-83f3-ccb942061eb2",
   "metadata": {},
   "outputs": [],
   "source": []
  },
  {
   "cell_type": "code",
   "execution_count": null,
   "id": "fa01a4c8-2160-4083-b9b2-619c6b25b0a1",
   "metadata": {},
   "outputs": [],
   "source": []
  }
 ],
 "metadata": {
  "kernelspec": {
   "display_name": "Python [conda env:base] *",
   "language": "python",
   "name": "conda-base-py"
  },
  "language_info": {
   "codemirror_mode": {
    "name": "ipython",
    "version": 3
   },
   "file_extension": ".py",
   "mimetype": "text/x-python",
   "name": "python",
   "nbconvert_exporter": "python",
   "pygments_lexer": "ipython3",
   "version": "3.13.5"
  }
 },
 "nbformat": 4,
 "nbformat_minor": 5
}

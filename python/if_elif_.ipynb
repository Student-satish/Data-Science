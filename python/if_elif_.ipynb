{
 "cells": [
  {
   "cell_type": "code",
   "execution_count": 1,
   "id": "6724d7c0-93d4-411f-a78b-887a3b3e8d55",
   "metadata": {},
   "outputs": [
    {
     "name": "stdout",
     "output_type": "stream",
     "text": [
      "you are becoming an adult\n"
     ]
    }
   ],
   "source": [
    "age = 18;\n",
    "if age > 18:\n",
    "    print(\"you are an adult\");\n",
    "elif age == 18:\n",
    "    print(\"you are becoming an adult\");\n",
    "else:\n",
    "    print(\"you are a child\");"
   ]
  },
  {
   "cell_type": "code",
   "execution_count": 2,
   "id": "6bca56bb-4974-48e4-8b32-f74fd5a5bb81",
   "metadata": {},
   "outputs": [
    {
     "name": "stdout",
     "output_type": "stream",
     "text": [
      "9\n"
     ]
    }
   ],
   "source": [
    "# functions in python\n",
    "def add(a,b):\n",
    "    return a + b;\n",
    "print(add(4,5));\n",
    "\n",
    "\n",
    "\n"
   ]
  }
 ],
 "metadata": {
  "kernelspec": {
   "display_name": "Python [conda env:base] *",
   "language": "python",
   "name": "conda-base-py"
  },
  "language_info": {
   "codemirror_mode": {
    "name": "ipython",
    "version": 3
   },
   "file_extension": ".py",
   "mimetype": "text/x-python",
   "name": "python",
   "nbconvert_exporter": "python",
   "pygments_lexer": "ipython3",
   "version": "3.13.5"
  }
 },
 "nbformat": 4,
 "nbformat_minor": 5
}

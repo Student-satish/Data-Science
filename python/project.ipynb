{
 "cells": [
  {
   "cell_type": "code",
   "execution_count": 1,
   "id": "38d49575-c8eb-4056-9748-7f81b4d1c313",
   "metadata": {},
   "outputs": [
    {
     "name": "stdout",
     "output_type": "stream",
     "text": [
      "{'users': [{'id': 1, 'name': 'Amit', 'friends': [2, 3], 'liked_pages': [101]}, {'id': 2, 'name': 'Priya', 'friends': [1, 4], 'liked_pages': [102]}, {'id': 3, 'name': 'Rahul', 'friends': [1], 'liked_pages': [101, 103]}, {'id': 4, 'name': 'Sara', 'friends': [2], 'liked_pages': [104]}], 'pages': [{'id': 101, 'name': 'Python Developers'}, {'id': 102, 'name': 'Data Science Enthusiasts'}, {'id': 103, 'name': 'AI & ML Community'}, {'id': 104, 'name': 'Web Dev Hub'}]} \n",
      "\n",
      "users and their connections\n",
      "\n",
      "Amit is friends with : [2, 3] and liked_pages are [101]\n",
      "Priya is friends with : [1, 4] and liked_pages are [102]\n",
      "Rahul is friends with : [1] and liked_pages are [101, 103]\n",
      "Sara is friends with : [2] and liked_pages are [104]\n",
      "\n",
      "pages information\n",
      "\n",
      "101:Python Developers\n",
      "102:Data Science Enthusiasts\n",
      "103:AI & ML Community\n",
      "104:Web Dev Hub\n"
     ]
    }
   ],
   "source": [
    "import json\n",
    "# lets write a function to load the data\n",
    "def load_data(filename):\n",
    "    with open(filename,\"r\") as f:\n",
    "        data = json.load(f);\n",
    "    return data;\n",
    "data = load_data(\"data.json\");\n",
    "print(data,\"\\n\");\n",
    "\n",
    "# lets display users and their connection\n",
    "\n",
    "def display_users(data):\n",
    "    print(\"users and their connections\\n\")\n",
    "    for user in data[\"users\"]:\n",
    "        print(f\"{user[\"name\"]} is friends with : {user[\"friends\"]} and liked_pages are {user[\"liked_pages\"]}\");\n",
    "    print(\"\\npages information\\n\");\n",
    "    for page in data[\"pages\"]:\n",
    "        print(f\"{page[\"id\"]}:{page[\"name\"]}\");\n",
    "display_users(data);"
   ]
  },
  {
   "cell_type": "code",
   "execution_count": 1,
   "id": "6fe5c399-9094-43fb-b8cb-2eb0d09fbe87",
   "metadata": {},
   "outputs": [
    {
     "ename": "SyntaxError",
     "evalue": "unterminated string literal (detected at line 20) (824166375.py, line 20)",
     "output_type": "error",
     "traceback": [
      "\u001b[1;36m  Cell \u001b[1;32mIn[1], line 20\u001b[1;36m\u001b[0m\n\u001b[1;33m    data['\u001b[0m\n\u001b[1;37m         ^\u001b[0m\n\u001b[1;31mSyntaxError\u001b[0m\u001b[1;31m:\u001b[0m unterminated string literal (detected at line 20)\n"
     ]
    }
   ],
   "source": [
    "# clean and structuring the data\n",
    "import json\n",
    "\n",
    "def clean_data(data):\n",
    "    #remove users with missing names\n",
    "    data[\"users\"] = [user for user in data[\"users\"] if user[\"name\"].strip()];\n",
    "\n",
    "    # remove duplicate friends\n",
    "    for user in data[\"users\"]:\n",
    "        user[\"friends\"] = list(set(user[\"friends\"]));\n",
    "    # remove invalid users\n",
    "\n",
    "    data[\"users\"] = [user for user in data[\"users\"] if user[\"friends\"] or user[\"liked_pages\"]]\n",
    "\n",
    "    # remove duplicate pages\n",
    "\n",
    "    unique_pages = {};\n",
    "    for page in data[\"pages\"]:\n",
    "        unique_pages[page[\"id\"]] = page;\n",
    "        data['\n",
    "    return data;\n",
    "\n",
    "\n",
    "file = open(\"data2.json\",\"r\");\n",
    "data = json.load(file);\n",
    "data = clean_data(data);\n",
    "json.dump(data,open(\"cleaned_data2.json\",\"w\"),indent=4);\n",
    "print(\"data cleaned successfully\");"
   ]
  },
  {
   "cell_type": "code",
   "execution_count": 3,
   "id": "6ee922cc-f526-423f-b0ca-781cf6163e07",
   "metadata": {},
   "outputs": [
    {
     "name": "stdout",
     "output_type": "stream",
     "text": [
      "People You May Know for User 1: [7, 8, 9, 10, 11, 12]\n"
     ]
    }
   ],
   "source": [
    "# find people you may know\n",
    "\n",
    "import json\n",
    "\n",
    "def load_data(filename):\n",
    "    with open(filename,\"r\") as f:\n",
    "        return json.load(f);\n",
    "\n",
    "def find_people_you_may_know(user_id,data):\n",
    "    user_friends = {};\n",
    "    for user in data[\"users\"]:\n",
    "        user_friends[user['id']] = set(user['friends']);\n",
    "    if user_id not in user_friends:\n",
    "        return [];\n",
    "    direct_friends = user_friends[user_id];\n",
    "    suggestions = {};\n",
    "    for friend in direct_friends:\n",
    "        # for all friends of friend\n",
    "        for mutual in user_friends[friend]:\n",
    "            if mutual != user_id and mutual not in direct_friends:\n",
    "                suggestions[mutual] = suggestions.get(mutual,0) + 1;\n",
    "\n",
    "    sorted_suggestions = sorted(suggestions.items(),key=lambda x:x[1],reverse=True);\n",
    "    return [user_id for user_id,_ in sorted_suggestions]\n",
    "# Load data\n",
    "data = load_data(\"cleaned_data.json\")\n",
    "user_id = 1  # Example: Finding suggestions for Amit\n",
    "recommendations = find_people_you_may_know(user_id, data)\n",
    "print(f\"People You May Know for User {user_id}: {recommendations}\")"
   ]
  }
 ],
 "metadata": {
  "kernelspec": {
   "display_name": "Python [conda env:base] *",
   "language": "python",
   "name": "conda-base-py"
  },
  "language_info": {
   "codemirror_mode": {
    "name": "ipython",
    "version": 3
   },
   "file_extension": ".py",
   "mimetype": "text/x-python",
   "name": "python",
   "nbconvert_exporter": "python",
   "pygments_lexer": "ipython3",
   "version": "3.13.5"
  }
 },
 "nbformat": 4,
 "nbformat_minor": 5
}

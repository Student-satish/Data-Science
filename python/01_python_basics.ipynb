{
 "cells": [
  {
   "cell_type": "code",
   "execution_count": 1,
   "id": "c830bd8f-ef49-45a6-9203-de8617f8269a",
   "metadata": {},
   "outputs": [],
   "source": [
    "a = 5"
   ]
  },
  {
   "cell_type": "code",
   "execution_count": 2,
   "id": "348f525d-2964-442c-8644-de3d1a8344fa",
   "metadata": {},
   "outputs": [],
   "source": [
    "b = 7"
   ]
  },
  {
   "cell_type": "code",
   "execution_count": 3,
   "id": "70ce27fa-d808-4205-b519-9b19e84bcefc",
   "metadata": {},
   "outputs": [],
   "source": [
    "c = a + b;"
   ]
  },
  {
   "cell_type": "code",
   "execution_count": 4,
   "id": "39137a2d-162f-464c-b1ee-fc19f44d342a",
   "metadata": {},
   "outputs": [
    {
     "name": "stdout",
     "output_type": "stream",
     "text": [
      "12\n"
     ]
    }
   ],
   "source": [
    "print(c);"
   ]
  },
  {
   "cell_type": "code",
   "execution_count": 8,
   "id": "a8de8880-4a7c-4117-95b1-b5b873a73b23",
   "metadata": {},
   "outputs": [
    {
     "name": "stdout",
     "output_type": "stream",
     "text": [
      "5\n"
     ]
    }
   ],
   "source": [
    "a = 5\n",
    "print(a)"
   ]
  },
  {
   "cell_type": "code",
   "execution_count": 11,
   "id": "60f6ece1-aae3-4a5b-a26d-9d457f0cdab1",
   "metadata": {},
   "outputs": [
    {
     "name": "stdout",
     "output_type": "stream",
     "text": [
      "Hello world\n",
      "satish\n"
     ]
    }
   ],
   "source": [
    "print(\"Hello world\");\n",
    "print(\"satish\");"
   ]
  },
  {
   "cell_type": "code",
   "execution_count": 17,
   "id": "e1efeefd-a104-4391-b23e-630b565bcb27",
   "metadata": {},
   "outputs": [
    {
     "name": "stdout",
     "output_type": "stream",
     "text": [
      "<class 'int'>\n",
      "<class 'bool'>\n",
      "<class 'float'>\n"
     ]
    }
   ],
   "source": [
    "# this is a comment\n",
    "print(type(c));\n",
    "is_done = True;\n",
    "print(type(is_done));\n",
    "pi = 3.14;\n",
    "print(type(pi));"
   ]
  },
  {
   "cell_type": "code",
   "execution_count": 21,
   "id": "9a9b282c-722c-47e3-8947-fc64e5211356",
   "metadata": {},
   "outputs": [
    {
     "name": "stdout",
     "output_type": "stream",
     "text": [
      "89\n",
      "<class 'str'>\n",
      "3\n",
      "[1]\n"
     ]
    }
   ],
   "source": [
    "a = 89;\n",
    "b = str(a);\n",
    "print(b);\n",
    "print(type(b));\n",
    "a = 3.9;\n",
    "print(int(a));\n",
    "# ordered and mutable\n",
    "temp = [];\n",
    "temp.append(1);\n",
    "print(temp);\n"
   ]
  },
  {
   "cell_type": "code",
   "execution_count": 1,
   "id": "2f41ae11-1a07-4834-9391-0b757bb58963",
   "metadata": {},
   "outputs": [
    {
     "name": "stdout",
     "output_type": "stream",
     "text": [
      "{'name': 'satish', 'age': 19}\n"
     ]
    }
   ],
   "source": [
    "# let's create dictionary in python\n",
    "person = {\n",
    "    \"name\":\"satish\",\n",
    "    \"age\" : 19\n",
    "}\n",
    "print(person);"
   ]
  },
  {
   "cell_type": "code",
   "execution_count": 11,
   "id": "ec941b06-7ce5-4ff5-9a74-a45465643769",
   "metadata": {},
   "outputs": [
    {
     "name": "stdout",
     "output_type": "stream",
     "text": [
      "{'name': 'satish', 'age': 23, 'marks': 99}\n",
      "<class 'dict'>\n",
      "{'name': 'satish', 'age': 23, 'marks': 65}\n",
      "{'name': 'satish', 'age': 23, 'marks': 65, 'village': 'raketla'}\n",
      "23\n",
      "{'name': 'satish', 'age': 23, 'village': 'raketla'}\n",
      "{'name': 'satish', 'age': 23}\n",
      "dict_keys(['name', 'age'])\n",
      "dict_values(['satish', 23])\n"
     ]
    }
   ],
   "source": [
    "student = {\"name\":\"satish\",\"age\":23,\"marks\":99};\n",
    "print(student);\n",
    "print(type(student));\n",
    "# to update the value of any key\n",
    "student[\"marks\"] = 65;\n",
    "print(student);\n",
    "# to create a new key\n",
    "student[\"village\"] = \"raketla\";\n",
    "print(student);\n",
    "# to get a value \n",
    "print(student.get(\"age\"));\n",
    "student.pop(\"marks\");\n",
    "print(student);\n",
    "del student['village'];\n",
    "print(student);\n",
    "print(student.keys());\n",
    "print(student.values());\n"
   ]
  }
 ],
 "metadata": {
  "kernelspec": {
   "display_name": "Python [conda env:base] *",
   "language": "python",
   "name": "conda-base-py"
  },
  "language_info": {
   "codemirror_mode": {
    "name": "ipython",
    "version": 3
   },
   "file_extension": ".py",
   "mimetype": "text/x-python",
   "name": "python",
   "nbconvert_exporter": "python",
   "pygments_lexer": "ipython3",
   "version": "3.13.5"
  }
 },
 "nbformat": 4,
 "nbformat_minor": 5
}

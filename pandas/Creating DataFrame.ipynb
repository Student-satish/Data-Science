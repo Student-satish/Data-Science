{
 "cells": [
  {
   "cell_type": "code",
   "execution_count": 2,
   "id": "7c4390b6-d1d4-47ff-ba91-69de9da20718",
   "metadata": {},
   "outputs": [],
   "source": [
    "import pandas as pd"
   ]
  },
  {
   "cell_type": "code",
   "execution_count": 3,
   "id": "004d66c4-dddd-4801-b231-73e7842c6989",
   "metadata": {},
   "outputs": [],
   "source": [
    "data = [[\"anil\",45],[\"Karthik\",56],[\"siddu\",67],[\"akash\",89]];"
   ]
  },
  {
   "cell_type": "code",
   "execution_count": 5,
   "id": "bf01eec9-de3f-454f-923b-28a81f2266e0",
   "metadata": {},
   "outputs": [],
   "source": [
    "df = pd.DataFrame(data,columns=[\"Name\",\"marks\"]);"
   ]
  },
  {
   "cell_type": "code",
   "execution_count": 7,
   "id": "a612fbee-5c85-4899-9389-e0a9d5100ad3",
   "metadata": {},
   "outputs": [
    {
     "name": "stdout",
     "output_type": "stream",
     "text": [
      "      Name  marks\n",
      "0     anil     45\n",
      "1  Karthik     56\n",
      "2    siddu     67\n",
      "3    akash     89\n"
     ]
    }
   ],
   "source": [
    "print(df);"
   ]
  },
  {
   "cell_type": "code",
   "execution_count": 8,
   "id": "1b806e20-e755-414c-a36c-d7a9001c2996",
   "metadata": {},
   "outputs": [],
   "source": [
    "data = {\"a\":[1,2,3],\"b\":[5,6,8]};"
   ]
  },
  {
   "cell_type": "code",
   "execution_count": 10,
   "id": "310546d3-5b83-42a2-a8f9-40696a58408b",
   "metadata": {},
   "outputs": [],
   "source": [
    "df = pd.DataFrame(data);"
   ]
  },
  {
   "cell_type": "code",
   "execution_count": 12,
   "id": "bbf09889-ee5e-4529-8617-63987ab55006",
   "metadata": {},
   "outputs": [
    {
     "name": "stdout",
     "output_type": "stream",
     "text": [
      "   a  b\n",
      "0  1  5\n",
      "1  2  6\n",
      "2  3  8\n"
     ]
    }
   ],
   "source": [
    "print(df);"
   ]
  },
  {
   "cell_type": "code",
   "execution_count": 13,
   "id": "f0d30694-8b92-4a7f-8011-1dd323ebfc01",
   "metadata": {},
   "outputs": [],
   "source": [
    "import numpy as np"
   ]
  },
  {
   "cell_type": "code",
   "execution_count": 14,
   "id": "328e26bb-5929-43c8-bad3-ae1e054d2cac",
   "metadata": {},
   "outputs": [],
   "source": [
    "arr = np.array([[1,2,3],[4,5,6]]);"
   ]
  },
  {
   "cell_type": "code",
   "execution_count": 15,
   "id": "73d1bda1-b6da-4f66-82f3-9aeeb8a299ca",
   "metadata": {},
   "outputs": [],
   "source": [
    "df = pd.DataFrame(arr,columns=[\"a\",\"b\",\"c\"]);"
   ]
  },
  {
   "cell_type": "code",
   "execution_count": 16,
   "id": "9a9c3c92-6433-42ae-b02d-d04834f0da39",
   "metadata": {},
   "outputs": [
    {
     "name": "stdout",
     "output_type": "stream",
     "text": [
      "   a  b  c\n",
      "0  1  2  3\n",
      "1  4  5  6\n"
     ]
    }
   ],
   "source": [
    "print(df);"
   ]
  },
  {
   "cell_type": "code",
   "execution_count": null,
   "id": "2216e761-7b60-40cd-84ed-d0756365bd87",
   "metadata": {},
   "outputs": [],
   "source": []
  }
 ],
 "metadata": {
  "kernelspec": {
   "display_name": "Python [conda env:base] *",
   "language": "python",
   "name": "conda-base-py"
  },
  "language_info": {
   "codemirror_mode": {
    "name": "ipython",
    "version": 3
   },
   "file_extension": ".py",
   "mimetype": "text/x-python",
   "name": "python",
   "nbconvert_exporter": "python",
   "pygments_lexer": "ipython3",
   "version": "3.13.5"
  }
 },
 "nbformat": 4,
 "nbformat_minor": 5
}

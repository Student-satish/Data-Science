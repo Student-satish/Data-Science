{
 "cells": [
  {
   "cell_type": "code",
   "execution_count": 2,
   "id": "7c4390b6-d1d4-47ff-ba91-69de9da20718",
   "metadata": {},
   "outputs": [],
   "source": [
    "import pandas as pd"
   ]
  },
  {
   "cell_type": "code",
   "execution_count": 3,
   "id": "004d66c4-dddd-4801-b231-73e7842c6989",
   "metadata": {},
   "outputs": [],
   "source": [
    "data = [[\"anil\",45],[\"Karthik\",56],[\"siddu\",67],[\"akash\",89]];"
   ]
  },
  {
   "cell_type": "code",
   "execution_count": 5,
   "id": "bf01eec9-de3f-454f-923b-28a81f2266e0",
   "metadata": {},
   "outputs": [],
   "source": [
    "df = pd.DataFrame(data,columns=[\"Name\",\"marks\"]);"
   ]
  },
  {
   "cell_type": "code",
   "execution_count": 7,
   "id": "a612fbee-5c85-4899-9389-e0a9d5100ad3",
   "metadata": {},
   "outputs": [
    {
     "name": "stdout",
     "output_type": "stream",
     "text": [
      "      Name  marks\n",
      "0     anil     45\n",
      "1  Karthik     56\n",
      "2    siddu     67\n",
      "3    akash     89\n"
     ]
    }
   ],
   "source": [
    "print(df);"
   ]
  },
  {
   "cell_type": "code",
   "execution_count": 8,
   "id": "1b806e20-e755-414c-a36c-d7a9001c2996",
   "metadata": {},
   "outputs": [],
   "source": [
    "data = {\"a\":[1,2,3],\"b\":[5,6,8]};"
   ]
  },
  {
   "cell_type": "code",
   "execution_count": 10,
   "id": "310546d3-5b83-42a2-a8f9-40696a58408b",
   "metadata": {},
   "outputs": [],
   "source": [
    "df = pd.DataFrame(data);"
   ]
  },
  {
   "cell_type": "code",
   "execution_count": 12,
   "id": "bbf09889-ee5e-4529-8617-63987ab55006",
   "metadata": {},
   "outputs": [
    {
     "name": "stdout",
     "output_type": "stream",
     "text": [
      "   a  b\n",
      "0  1  5\n",
      "1  2  6\n",
      "2  3  8\n"
     ]
    }
   ],
   "source": [
    "print(df);"
   ]
  },
  {
   "cell_type": "code",
   "execution_count": 13,
   "id": "f0d30694-8b92-4a7f-8011-1dd323ebfc01",
   "metadata": {},
   "outputs": [],
   "source": [
    "import numpy as np"
   ]
  },
  {
   "cell_type": "code",
   "execution_count": 14,
   "id": "328e26bb-5929-43c8-bad3-ae1e054d2cac",
   "metadata": {},
   "outputs": [],
   "source": [
    "arr = np.array([[1,2,3],[4,5,6]]);"
   ]
  },
  {
   "cell_type": "code",
   "execution_count": 15,
   "id": "73d1bda1-b6da-4f66-82f3-9aeeb8a299ca",
   "metadata": {},
   "outputs": [],
   "source": [
    "df = pd.DataFrame(arr,columns=[\"a\",\"b\",\"c\"]);"
   ]
  },
  {
   "cell_type": "code",
   "execution_count": 16,
   "id": "9a9c3c92-6433-42ae-b02d-d04834f0da39",
   "metadata": {},
   "outputs": [
    {
     "name": "stdout",
     "output_type": "stream",
     "text": [
      "   a  b  c\n",
      "0  1  2  3\n",
      "1  4  5  6\n"
     ]
    }
   ],
   "source": [
    "print(df);"
   ]
  },
  {
   "cell_type": "code",
   "execution_count": 8,
   "id": "2216e761-7b60-40cd-84ed-d0756365bd87",
   "metadata": {},
   "outputs": [],
   "source": [
    "import pandas as pd\n",
    "df = pd.read_excel(\"data.xlsx\");"
   ]
  },
  {
   "cell_type": "code",
   "execution_count": 10,
   "id": "7c8898e5-721d-4d87-9b1c-a74c9b4fce12",
   "metadata": {},
   "outputs": [
    {
     "name": "stdout",
     "output_type": "stream",
     "text": [
      "     Name Schiool  Marks\n",
      "0  satish     ups     56\n",
      "1    hari     sms     89\n",
      "2    raju     rps     90\n"
     ]
    }
   ],
   "source": [
    "print(df);"
   ]
  },
  {
   "cell_type": "code",
   "execution_count": 12,
   "id": "aa28ac7e-4a85-4367-8831-08ac3e215857",
   "metadata": {},
   "outputs": [],
   "source": [
    "df = pd.read_csv(\"data.csv\");"
   ]
  },
  {
   "cell_type": "code",
   "execution_count": 8,
   "id": "95de9f81-4ff3-4666-b695-487e970ad9b2",
   "metadata": {},
   "outputs": [],
   "source": [
    "import pandas as pd"
   ]
  },
  {
   "cell_type": "code",
   "execution_count": 10,
   "id": "be9a736e-377b-476c-8059-7075dcc461f6",
   "metadata": {},
   "outputs": [],
   "source": [
    "df = pd.read_json(\"data1.json\");"
   ]
  },
  {
   "cell_type": "code",
   "execution_count": 12,
   "id": "1418bc5f-e6b4-4f5d-a16f-afc08aade706",
   "metadata": {},
   "outputs": [
    {
     "name": "stdout",
     "output_type": "stream",
     "text": [
      "     name  age               skills\n",
      "0  Satish   22  [Java, Python, SQL]\n",
      "1  Satish   22  [Java, Python, SQL]\n"
     ]
    }
   ],
   "source": [
    "print(df);"
   ]
  },
  {
   "cell_type": "code",
   "execution_count": 16,
   "id": "094b8fd5-e0d7-4328-a444-4ae175b016b3",
   "metadata": {},
   "outputs": [],
   "source": [
    "url = \"https://raw.githubusercontent.com/mwaskom/seaborn-data/master/tips.csv\"\n",
    "df = pd.read_csv(url)"
   ]
  },
  {
   "cell_type": "code",
   "execution_count": 18,
   "id": "5aca0c65-caba-4564-9816-392d9210854e",
   "metadata": {},
   "outputs": [
    {
     "name": "stdout",
     "output_type": "stream",
     "text": [
      "     total_bill   tip     sex smoker   day    time  size\n",
      "0         16.99  1.01  Female     No   Sun  Dinner     2\n",
      "1         10.34  1.66    Male     No   Sun  Dinner     3\n",
      "2         21.01  3.50    Male     No   Sun  Dinner     3\n",
      "3         23.68  3.31    Male     No   Sun  Dinner     2\n",
      "4         24.59  3.61  Female     No   Sun  Dinner     4\n",
      "..          ...   ...     ...    ...   ...     ...   ...\n",
      "239       29.03  5.92    Male     No   Sat  Dinner     3\n",
      "240       27.18  2.00  Female    Yes   Sat  Dinner     2\n",
      "241       22.67  2.00    Male    Yes   Sat  Dinner     2\n",
      "242       17.82  1.75    Male     No   Sat  Dinner     2\n",
      "243       18.78  3.00  Female     No  Thur  Dinner     2\n",
      "\n",
      "[244 rows x 7 columns]\n"
     ]
    }
   ],
   "source": [
    "print(df);"
   ]
  },
  {
   "cell_type": "code",
   "execution_count": 21,
   "id": "d0de346d-72b8-4b74-83fb-a89a32ba4649",
   "metadata": {},
   "outputs": [
    {
     "name": "stdout",
     "output_type": "stream",
     "text": [
      "   total_bill   tip     sex smoker  day    time  size\n",
      "0       16.99  1.01  Female     No  Sun  Dinner     2\n",
      "1       10.34  1.66    Male     No  Sun  Dinner     3\n",
      "2       21.01  3.50    Male     No  Sun  Dinner     3\n",
      "3       23.68  3.31    Male     No  Sun  Dinner     2\n",
      "4       24.59  3.61  Female     No  Sun  Dinner     4\n"
     ]
    }
   ],
   "source": [
    "print(df.head());"
   ]
  },
  {
   "cell_type": "code",
   "execution_count": 23,
   "id": "61591815-c407-4889-90be-79af291e191a",
   "metadata": {},
   "outputs": [
    {
     "name": "stdout",
     "output_type": "stream",
     "text": [
      "     total_bill   tip     sex smoker   day    time  size\n",
      "239       29.03  5.92    Male     No   Sat  Dinner     3\n",
      "240       27.18  2.00  Female    Yes   Sat  Dinner     2\n",
      "241       22.67  2.00    Male    Yes   Sat  Dinner     2\n",
      "242       17.82  1.75    Male     No   Sat  Dinner     2\n",
      "243       18.78  3.00  Female     No  Thur  Dinner     2\n"
     ]
    }
   ],
   "source": [
    "print(df.tail());"
   ]
  },
  {
   "cell_type": "code",
   "execution_count": 26,
   "id": "8688b76f-bf67-403a-a1d6-6ce4c7cf76b2",
   "metadata": {},
   "outputs": [
    {
     "name": "stdout",
     "output_type": "stream",
     "text": [
      "<class 'pandas.core.frame.DataFrame'>\n",
      "RangeIndex: 244 entries, 0 to 243\n",
      "Data columns (total 7 columns):\n",
      " #   Column      Non-Null Count  Dtype  \n",
      "---  ------      --------------  -----  \n",
      " 0   total_bill  244 non-null    float64\n",
      " 1   tip         244 non-null    float64\n",
      " 2   sex         244 non-null    object \n",
      " 3   smoker      244 non-null    object \n",
      " 4   day         244 non-null    object \n",
      " 5   time        244 non-null    object \n",
      " 6   size        244 non-null    int64  \n",
      "dtypes: float64(2), int64(1), object(4)\n",
      "memory usage: 13.5+ KB\n",
      "None\n"
     ]
    }
   ],
   "source": [
    "print(df.info());"
   ]
  },
  {
   "cell_type": "code",
   "execution_count": 27,
   "id": "2bd36b25-7602-4e9f-8da9-8c90762f1ecf",
   "metadata": {},
   "outputs": [
    {
     "name": "stdout",
     "output_type": "stream",
     "text": [
      "       total_bill         tip        size\n",
      "count  244.000000  244.000000  244.000000\n",
      "mean    19.785943    2.998279    2.569672\n",
      "std      8.902412    1.383638    0.951100\n",
      "min      3.070000    1.000000    1.000000\n",
      "25%     13.347500    2.000000    2.000000\n",
      "50%     17.795000    2.900000    2.000000\n",
      "75%     24.127500    3.562500    3.000000\n",
      "max     50.810000   10.000000    6.000000\n"
     ]
    }
   ],
   "source": [
    "print(df.describe());"
   ]
  },
  {
   "cell_type": "code",
   "execution_count": 29,
   "id": "eff82696-4a23-474d-ad11-7208ab5ff7c6",
   "metadata": {},
   "outputs": [
    {
     "name": "stdout",
     "output_type": "stream",
     "text": [
      "Index(['total_bill', 'tip', 'sex', 'smoker', 'day', 'time', 'size'], dtype='object')\n"
     ]
    }
   ],
   "source": [
    "print(df.columns);"
   ]
  },
  {
   "cell_type": "code",
   "execution_count": 30,
   "id": "ce5a51e7-bdee-4d98-8e49-5ec3c82db253",
   "metadata": {},
   "outputs": [
    {
     "name": "stdout",
     "output_type": "stream",
     "text": [
      "(244, 7)\n"
     ]
    }
   ],
   "source": [
    "print(df.shape);"
   ]
  },
  {
   "cell_type": "code",
   "execution_count": null,
   "id": "9384f0ff-ac1c-4705-a7cf-f275764d786d",
   "metadata": {},
   "outputs": [],
   "source": []
  }
 ],
 "metadata": {
  "kernelspec": {
   "display_name": "Python [conda env:base] *",
   "language": "python",
   "name": "conda-base-py"
  },
  "language_info": {
   "codemirror_mode": {
    "name": "ipython",
    "version": 3
   },
   "file_extension": ".py",
   "mimetype": "text/x-python",
   "name": "python",
   "nbconvert_exporter": "python",
   "pygments_lexer": "ipython3",
   "version": "3.13.5"
  }
 },
 "nbformat": 4,
 "nbformat_minor": 5
}

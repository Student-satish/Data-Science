{
 "cells": [
  {
   "cell_type": "code",
   "execution_count": 1,
   "id": "4e416784-541c-4742-b8bd-c711448c7969",
   "metadata": {},
   "outputs": [],
   "source": [
    "import pandas as pd\n"
   ]
  },
  {
   "cell_type": "code",
   "execution_count": 2,
   "id": "0747e025-6f06-4169-ac82-02dae6c2a0d4",
   "metadata": {},
   "outputs": [],
   "source": [
    "employees = pd.DataFrame({\n",
    "    \"EmpId\":[1,2,3],\n",
    "    \"Name\":[\"Alice\",\"Bob\",\"Charlie\"],\n",
    "    \"DeptId\":[10,20,30]\n",
    "})"
   ]
  },
  {
   "cell_type": "code",
   "execution_count": 3,
   "id": "3fd395ea-e941-45c1-878d-3ec926ff2635",
   "metadata": {},
   "outputs": [],
   "source": [
    "departments = pd.DataFrame({\n",
    "    \"DeptId\":[10,20,40],\n",
    "    \"DeptName\":[\"HR\",\"Engineering\",\"Marketing\"]\n",
    "})"
   ]
  },
  {
   "cell_type": "code",
   "execution_count": 4,
   "id": "21b293e5-b0ab-41d9-9426-f3707e0b8bd1",
   "metadata": {},
   "outputs": [
    {
     "name": "stdout",
     "output_type": "stream",
     "text": [
      "   EmpId     Name  DeptId\n",
      "0      1    Alice      10\n",
      "1      2      Bob      20\n",
      "2      3  Charlie      30\n"
     ]
    }
   ],
   "source": [
    "print(employees);"
   ]
  },
  {
   "cell_type": "code",
   "execution_count": 5,
   "id": "e9f0a0d5-7a14-4f30-97e7-267fbcc07ad3",
   "metadata": {},
   "outputs": [
    {
     "name": "stdout",
     "output_type": "stream",
     "text": [
      "   DeptId     DeptName\n",
      "0      10           HR\n",
      "1      20  Engineering\n",
      "2      40    Marketing\n"
     ]
    }
   ],
   "source": [
    "print(departments);\n"
   ]
  },
  {
   "cell_type": "code",
   "execution_count": 6,
   "id": "5a79c59f-78b0-40e3-9845-44b7c6981eb1",
   "metadata": {},
   "outputs": [],
   "source": [
    "#inner join\n",
    "df = pd.merge(employees,departments,on=\"DeptId\");"
   ]
  },
  {
   "cell_type": "code",
   "execution_count": 7,
   "id": "168b49f1-a8aa-41a3-9605-e9141303b701",
   "metadata": {},
   "outputs": [
    {
     "name": "stdout",
     "output_type": "stream",
     "text": [
      "   EmpId   Name  DeptId     DeptName\n",
      "0      1  Alice      10           HR\n",
      "1      2    Bob      20  Engineering\n"
     ]
    }
   ],
   "source": [
    "print(df);"
   ]
  },
  {
   "cell_type": "code",
   "execution_count": 10,
   "id": "10908596-0a5e-4971-9447-59a7a1f33a2f",
   "metadata": {},
   "outputs": [],
   "source": [
    "# left join\n",
    "df = pd.merge(employees,departments,on=\"DeptId\",how=\"left\");"
   ]
  },
  {
   "cell_type": "code",
   "execution_count": 11,
   "id": "a8e115e6-8d5a-436c-9929-7b1fc1121fdb",
   "metadata": {},
   "outputs": [
    {
     "name": "stdout",
     "output_type": "stream",
     "text": [
      "   EmpId     Name  DeptId     DeptName\n",
      "0      1    Alice      10           HR\n",
      "1      2      Bob      20  Engineering\n",
      "2      3  Charlie      30          NaN\n"
     ]
    }
   ],
   "source": [
    "print(df);"
   ]
  },
  {
   "cell_type": "code",
   "execution_count": 12,
   "id": "ab2f3973-13c0-4714-8fd2-2a04c198e3e6",
   "metadata": {},
   "outputs": [],
   "source": [
    "#right join\n",
    "df = pd.merge(employees,departments,on=\"DeptId\",how=\"right\");"
   ]
  },
  {
   "cell_type": "code",
   "execution_count": 13,
   "id": "02930361-985d-4292-b374-395813bac882",
   "metadata": {},
   "outputs": [
    {
     "name": "stdout",
     "output_type": "stream",
     "text": [
      "   EmpId   Name  DeptId     DeptName\n",
      "0    1.0  Alice      10           HR\n",
      "1    2.0    Bob      20  Engineering\n",
      "2    NaN    NaN      40    Marketing\n"
     ]
    }
   ],
   "source": [
    "print(df);"
   ]
  },
  {
   "cell_type": "code",
   "execution_count": 16,
   "id": "7c5aa554-df74-4b58-ac30-87b814fbbdc1",
   "metadata": {},
   "outputs": [],
   "source": [
    "# outer join\n",
    "df = pd.merge(employees,departments,on=\"DeptId\",how=\"outer\");"
   ]
  },
  {
   "cell_type": "code",
   "execution_count": 17,
   "id": "514a6856-e658-4825-b862-4804f066dfb2",
   "metadata": {},
   "outputs": [
    {
     "name": "stdout",
     "output_type": "stream",
     "text": [
      "   EmpId     Name  DeptId     DeptName\n",
      "0    1.0    Alice      10           HR\n",
      "1    2.0      Bob      20  Engineering\n",
      "2    3.0  Charlie      30          NaN\n",
      "3    NaN      NaN      40    Marketing\n"
     ]
    }
   ],
   "source": [
    "print(df);"
   ]
  },
  {
   "cell_type": "code",
   "execution_count": 19,
   "id": "aec54c6e-e96b-4c9b-a28a-2cbc5e915b25",
   "metadata": {},
   "outputs": [],
   "source": [
    "df1 = pd.DataFrame({\n",
    "    \"Name\":[\"satish\",\"hari\"],\n",
    "    \"marks\":[2,3]\n",
    "})"
   ]
  },
  {
   "cell_type": "code",
   "execution_count": 29,
   "id": "a150ebaf-5a4f-42d6-aef4-358444d67718",
   "metadata": {},
   "outputs": [],
   "source": [
    "df2 = pd.DataFrame({\n",
    "    \"Name\":[\"karthik\",\"siddu\"],\n",
    "    \"marks\":[4,5]\n",
    "    \n",
    "})"
   ]
  },
  {
   "cell_type": "code",
   "execution_count": 30,
   "id": "01a3de1f-8d27-4910-a10b-8fcc45634844",
   "metadata": {},
   "outputs": [
    {
     "name": "stdout",
     "output_type": "stream",
     "text": [
      "     Name  marks\n",
      "0  satish      2\n",
      "1    hari      3\n"
     ]
    }
   ],
   "source": [
    "print(df1);"
   ]
  },
  {
   "cell_type": "code",
   "execution_count": 31,
   "id": "73069219-ab73-4141-8443-8e14c0164eec",
   "metadata": {},
   "outputs": [
    {
     "name": "stdout",
     "output_type": "stream",
     "text": [
      "      Name  marks\n",
      "0  karthik      4\n",
      "1    siddu      5\n"
     ]
    }
   ],
   "source": [
    "print(df2);"
   ]
  },
  {
   "cell_type": "code",
   "execution_count": 32,
   "id": "21517fd1-2257-4949-864d-8ac2e298ae3d",
   "metadata": {},
   "outputs": [],
   "source": [
    "df = pd.concat([df1,df2]);"
   ]
  },
  {
   "cell_type": "code",
   "execution_count": 33,
   "id": "ee5d39d0-ea42-42fc-93c0-ecf80fea3da1",
   "metadata": {},
   "outputs": [
    {
     "name": "stdout",
     "output_type": "stream",
     "text": [
      "      Name  marks\n",
      "0   satish      2\n",
      "1     hari      3\n",
      "0  karthik      4\n",
      "1    siddu      5\n"
     ]
    }
   ],
   "source": [
    "print(df);"
   ]
  },
  {
   "cell_type": "code",
   "execution_count": 34,
   "id": "c61b3e0b-d969-417e-8778-821443ecca28",
   "metadata": {},
   "outputs": [],
   "source": [
    "df = pd.concat([df1,df2],axis=1);"
   ]
  },
  {
   "cell_type": "code",
   "execution_count": 35,
   "id": "b247aaf0-8c57-40e6-959b-637ec289e8e2",
   "metadata": {},
   "outputs": [
    {
     "name": "stdout",
     "output_type": "stream",
     "text": [
      "     Name  marks     Name  marks\n",
      "0  satish      2  karthik      4\n",
      "1    hari      3    siddu      5\n"
     ]
    }
   ],
   "source": [
    "print(df);"
   ]
  },
  {
   "cell_type": "code",
   "execution_count": 36,
   "id": "efdad41e-15b6-42fe-9123-50cb9e77575b",
   "metadata": {},
   "outputs": [],
   "source": [
    "df = pd.concat([df1,df2],axis=0);"
   ]
  },
  {
   "cell_type": "code",
   "execution_count": 37,
   "id": "1cdf6334-b748-4ccf-8b35-6aa168bb55d3",
   "metadata": {},
   "outputs": [
    {
     "name": "stdout",
     "output_type": "stream",
     "text": [
      "      Name  marks\n",
      "0   satish      2\n",
      "1     hari      3\n",
      "0  karthik      4\n",
      "1    siddu      5\n"
     ]
    }
   ],
   "source": [
    "print(df);"
   ]
  },
  {
   "cell_type": "code",
   "execution_count": null,
   "id": "1a31de40-e078-458b-8a80-2d8f0e888f5f",
   "metadata": {},
   "outputs": [],
   "source": []
  },
  {
   "cell_type": "code",
   "execution_count": null,
   "id": "e1648c91-209e-45d5-89d5-0f58fabceef7",
   "metadata": {},
   "outputs": [],
   "source": []
  }
 ],
 "metadata": {
  "kernelspec": {
   "display_name": "Python [conda env:base] *",
   "language": "python",
   "name": "conda-base-py"
  },
  "language_info": {
   "codemirror_mode": {
    "name": "ipython",
    "version": 3
   },
   "file_extension": ".py",
   "mimetype": "text/x-python",
   "name": "python",
   "nbconvert_exporter": "python",
   "pygments_lexer": "ipython3",
   "version": "3.13.5"
  }
 },
 "nbformat": 4,
 "nbformat_minor": 5
}

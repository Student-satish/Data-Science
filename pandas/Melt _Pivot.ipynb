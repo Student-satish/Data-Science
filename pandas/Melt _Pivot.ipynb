{
 "cells": [
  {
   "cell_type": "code",
   "execution_count": 1,
   "id": "dea0672b-20be-4e13-bb16-e58919738430",
   "metadata": {},
   "outputs": [],
   "source": [
    "import pandas as pd"
   ]
  },
  {
   "cell_type": "code",
   "execution_count": 2,
   "id": "95a7b548-4c6c-41c1-84bd-ff32e6755040",
   "metadata": {},
   "outputs": [],
   "source": [
    "data = {\n",
    "    \"Name\":[\"satish\",\"hari\",\"raju\"],\n",
    "    \"Math\":[99,89,79],\n",
    "    \"English\":[99,87,86],\n",
    "    \"Science\":[90,83,99]\n",
    "}"
   ]
  },
  {
   "cell_type": "code",
   "execution_count": 3,
   "id": "31bf1f71-1eed-40a8-b39a-dd2d8f783757",
   "metadata": {},
   "outputs": [],
   "source": [
    "df = pd.DataFrame(data);"
   ]
  },
  {
   "cell_type": "code",
   "execution_count": 4,
   "id": "d6c87739-e4ab-4b62-aec0-31f81401f6d5",
   "metadata": {},
   "outputs": [
    {
     "name": "stdout",
     "output_type": "stream",
     "text": [
      "     Name  Math  English  Science\n",
      "0  satish    99       99       90\n",
      "1    hari    89       87       83\n",
      "2    raju    79       86       99\n"
     ]
    }
   ],
   "source": [
    "print(df);"
   ]
  },
  {
   "cell_type": "code",
   "execution_count": 5,
   "id": "31bc684c-4a30-4770-a3fe-77091aaa3cc9",
   "metadata": {},
   "outputs": [],
   "source": [
    "df1 = df.melt(id_vars=[\"Name\"],value_vars=[\"Math\",\"English\",\"Science\"],var_name=\"Subject\",value_name=\"Score\");"
   ]
  },
  {
   "cell_type": "code",
   "execution_count": 6,
   "id": "7f9c59de-a411-4765-b1b9-9b911ae1055f",
   "metadata": {},
   "outputs": [
    {
     "name": "stdout",
     "output_type": "stream",
     "text": [
      "     Name  Subject  Score\n",
      "0  satish     Math     99\n",
      "1    hari     Math     89\n",
      "2    raju     Math     79\n",
      "3  satish  English     99\n",
      "4    hari  English     87\n",
      "5    raju  English     86\n",
      "6  satish  Science     90\n",
      "7    hari  Science     83\n",
      "8    raju  Science     99\n"
     ]
    }
   ],
   "source": [
    "print(df1);"
   ]
  },
  {
   "cell_type": "code",
   "execution_count": 7,
   "id": "0727fe1e-2f39-4b98-bd3b-6161616f7b45",
   "metadata": {},
   "outputs": [],
   "source": [
    "df2 = df1.pivot(index=\"Name\",columns=\"Subject\",values=\"Score\");"
   ]
  },
  {
   "cell_type": "code",
   "execution_count": 8,
   "id": "8636b503-97c5-4adb-a49c-351fc42d14d4",
   "metadata": {},
   "outputs": [
    {
     "name": "stdout",
     "output_type": "stream",
     "text": [
      "Subject  English  Math  Science\n",
      "Name                           \n",
      "hari          87    89       83\n",
      "raju          86    79       99\n",
      "satish        99    99       90\n"
     ]
    }
   ],
   "source": [
    "print(df2);"
   ]
  },
  {
   "cell_type": "code",
   "execution_count": null,
   "id": "bab17da9-25df-4c51-b59a-9d113c97780c",
   "metadata": {},
   "outputs": [],
   "source": []
  }
 ],
 "metadata": {
  "kernelspec": {
   "display_name": "Python [conda env:base] *",
   "language": "python",
   "name": "conda-base-py"
  },
  "language_info": {
   "codemirror_mode": {
    "name": "ipython",
    "version": 3
   },
   "file_extension": ".py",
   "mimetype": "text/x-python",
   "name": "python",
   "nbconvert_exporter": "python",
   "pygments_lexer": "ipython3",
   "version": "3.13.5"
  }
 },
 "nbformat": 4,
 "nbformat_minor": 5
}

{
 "cells": [
  {
   "cell_type": "code",
   "execution_count": 1,
   "id": "39e38910-2554-4a2f-a173-2741feb185b8",
   "metadata": {},
   "outputs": [],
   "source": [
    "import pandas as pd"
   ]
  },
  {
   "cell_type": "code",
   "execution_count": 2,
   "id": "96968227-7b85-4147-a413-af0d51d4f6ee",
   "metadata": {},
   "outputs": [],
   "source": [
    "df = pd.read_csv(\"data2.csv\");\n"
   ]
  },
  {
   "cell_type": "code",
   "execution_count": 3,
   "id": "18aa011a-6525-42ca-b294-0dc4bbca834f",
   "metadata": {},
   "outputs": [
    {
     "name": "stdout",
     "output_type": "stream",
     "text": [
      "                 Actor                      Film  Year            Genre  \\\n",
      "0       Shah Rukh Khan                   Pathaan  2023           Action   \n",
      "1          Salman Khan           Tiger Zinda Hai  2017           Action   \n",
      "2           Aamir Khan                    Dangal  2016        Biography   \n",
      "3        Ranbir Kapoor                Brahmastra  2022          Fantasy   \n",
      "4        Ranveer Singh                 Padmaavat  2018       Historical   \n",
      "5   Ayushmann Khurrana                 Andhadhun  2018         Thriller   \n",
      "6        Rajkummar Rao                     Stree  2018    Horror Comedy   \n",
      "7       Hrithik Roshan                       War  2019           Action   \n",
      "8         Akshay Kumar                Good Newwz  2019           Comedy   \n",
      "9        Kartik Aaryan         Bhool Bhulaiyaa 2  2022    Horror Comedy   \n",
      "10        Varun Dhawan     Badrinath Ki Dulhania  2017  Romantic Comedy   \n",
      "11       Vicky Kaushal  Uri: The Surgical Strike  2019           Action   \n",
      "\n",
      "    BoxOffice(INR Crore)  IMDb  \n",
      "0                   1050   7.2  \n",
      "1                    565   6.0  \n",
      "2                   2024   8.4  \n",
      "3                    431   5.6  \n",
      "4                    585   7.0  \n",
      "5                    111   8.3  \n",
      "6                    180   7.5  \n",
      "7                    475   6.5  \n",
      "8                    318   7.0  \n",
      "9                    266   5.9  \n",
      "10                   201   6.1  \n",
      "11                   342   8.2  \n"
     ]
    }
   ],
   "source": [
    "print(df);"
   ]
  },
  {
   "cell_type": "code",
   "execution_count": 5,
   "id": "baea985f-242d-4500-9dfe-2b23321e73f5",
   "metadata": {},
   "outputs": [],
   "source": [
    "df = pd.read_csv(\"data2.csv\",usecols=[\"Actor\",\"Film\"],nrows=5);"
   ]
  },
  {
   "cell_type": "code",
   "execution_count": 6,
   "id": "eeb3c98b-3af6-494a-9fad-af3766765bdd",
   "metadata": {},
   "outputs": [
    {
     "name": "stdout",
     "output_type": "stream",
     "text": [
      "            Actor             Film\n",
      "0  Shah Rukh Khan          Pathaan\n",
      "1     Salman Khan  Tiger Zinda Hai\n",
      "2      Aamir Khan           Dangal\n",
      "3   Ranbir Kapoor       Brahmastra\n",
      "4   Ranveer Singh        Padmaavat\n"
     ]
    }
   ],
   "source": [
    "print(df);"
   ]
  },
  {
   "cell_type": "code",
   "execution_count": 7,
   "id": "2029be0b-628c-4c96-828b-40d59f52c2da",
   "metadata": {},
   "outputs": [],
   "source": [
    "df.to_csv(\"output.csv\");"
   ]
  },
  {
   "cell_type": "code",
   "execution_count": 8,
   "id": "49357a0e-eb99-4e43-875f-34cdb1301356",
   "metadata": {},
   "outputs": [],
   "source": [
    "df.to_csv(\"data4.csv\",index=False);"
   ]
  },
  {
   "cell_type": "code",
   "execution_count": 9,
   "id": "d180b002-b5ac-4ceb-9e55-aa07ba4850fc",
   "metadata": {},
   "outputs": [],
   "source": [
    "df = pd.read_excel(\"xl_sheet.xlsx\");"
   ]
  },
  {
   "cell_type": "code",
   "execution_count": 10,
   "id": "f0e2fab6-72a4-4feb-89da-145029dc7f12",
   "metadata": {},
   "outputs": [
    {
     "name": "stdout",
     "output_type": "stream",
     "text": [
      "                 Actor                      Film  Year            Genre  \\\n",
      "0       Shah Rukh Khan                   Pathaan  2023           Action   \n",
      "1          Salman Khan           Tiger Zinda Hai  2017           Action   \n",
      "2           Aamir Khan                    Dangal  2016        Biography   \n",
      "3        Ranbir Kapoor                Brahmastra  2022          Fantasy   \n",
      "4        Ranveer Singh                 Padmaavat  2018       Historical   \n",
      "5   Ayushmann Khurrana                 Andhadhun  2018         Thriller   \n",
      "6        Rajkummar Rao                     Stree  2018    Horror Comedy   \n",
      "7       Hrithik Roshan                       War  2019           Action   \n",
      "8         Akshay Kumar                Good Newwz  2019           Comedy   \n",
      "9        Kartik Aaryan         Bhool Bhulaiyaa 2  2022    Horror Comedy   \n",
      "10        Varun Dhawan     Badrinath Ki Dulhania  2017  Romantic Comedy   \n",
      "11       Vicky Kaushal  Uri: The Surgical Strike  2019           Action   \n",
      "\n",
      "    BoxOffice(INR Crore)  IMDb  \n",
      "0                   1050   7.2  \n",
      "1                    565   6.0  \n",
      "2                   2024   8.4  \n",
      "3                    431   5.6  \n",
      "4                    585   7.0  \n",
      "5                    111   8.3  \n",
      "6                    180   7.5  \n",
      "7                    475   6.5  \n",
      "8                    318   7.0  \n",
      "9                    266   5.9  \n",
      "10                   201   6.1  \n",
      "11                   342   8.2  \n"
     ]
    }
   ],
   "source": [
    "print(df);"
   ]
  },
  {
   "cell_type": "code",
   "execution_count": 13,
   "id": "d3c5fdfc-1f31-4358-b5de-62bf0785ebb9",
   "metadata": {},
   "outputs": [],
   "source": [
    "df = pd.read_excel(\"xl_sheet.xlsx\",usecols=[\"Actor\",\"Film\"]);"
   ]
  },
  {
   "cell_type": "code",
   "execution_count": 14,
   "id": "76db0cf1-2175-4954-ae3f-2e89165df978",
   "metadata": {},
   "outputs": [
    {
     "name": "stdout",
     "output_type": "stream",
     "text": [
      "                 Actor                      Film\n",
      "0       Shah Rukh Khan                   Pathaan\n",
      "1          Salman Khan           Tiger Zinda Hai\n",
      "2           Aamir Khan                    Dangal\n",
      "3        Ranbir Kapoor                Brahmastra\n",
      "4        Ranveer Singh                 Padmaavat\n",
      "5   Ayushmann Khurrana                 Andhadhun\n",
      "6        Rajkummar Rao                     Stree\n",
      "7       Hrithik Roshan                       War\n",
      "8         Akshay Kumar                Good Newwz\n",
      "9        Kartik Aaryan         Bhool Bhulaiyaa 2\n",
      "10        Varun Dhawan     Badrinath Ki Dulhania\n",
      "11       Vicky Kaushal  Uri: The Surgical Strike\n"
     ]
    }
   ],
   "source": [
    "print(df);"
   ]
  },
  {
   "cell_type": "code",
   "execution_count": null,
   "id": "83f76a4e-43f7-44d3-838f-1d823a7bfdfc",
   "metadata": {},
   "outputs": [],
   "source": []
  }
 ],
 "metadata": {
  "kernelspec": {
   "display_name": "Python [conda env:base] *",
   "language": "python",
   "name": "conda-base-py"
  },
  "language_info": {
   "codemirror_mode": {
    "name": "ipython",
    "version": 3
   },
   "file_extension": ".py",
   "mimetype": "text/x-python",
   "name": "python",
   "nbconvert_exporter": "python",
   "pygments_lexer": "ipython3",
   "version": "3.13.5"
  }
 },
 "nbformat": 4,
 "nbformat_minor": 5
}

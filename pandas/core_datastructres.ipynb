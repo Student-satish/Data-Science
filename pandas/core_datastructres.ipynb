{
 "cells": [
  {
   "cell_type": "code",
   "execution_count": 2,
   "id": "4112abbf-5d1e-4ba6-94c3-7b51c3e28440",
   "metadata": {},
   "outputs": [],
   "source": [
    "import pandas as pd"
   ]
  },
  {
   "cell_type": "code",
   "execution_count": 4,
   "id": "4ff9706c-8f02-44b7-bed0-3b073eb617c3",
   "metadata": {},
   "outputs": [],
   "source": [
    "s = pd.Series([1,2,3,4,5]);"
   ]
  },
  {
   "cell_type": "code",
   "execution_count": 6,
   "id": "8a945fd4-b35f-4ec7-bc6d-dd8de7f93045",
   "metadata": {},
   "outputs": [
    {
     "name": "stdout",
     "output_type": "stream",
     "text": [
      "0    1\n",
      "1    2\n",
      "2    3\n",
      "3    4\n",
      "4    5\n",
      "dtype: int64\n"
     ]
    }
   ],
   "source": [
    "print(s);"
   ]
  },
  {
   "cell_type": "code",
   "execution_count": 8,
   "id": "8fc9d688-5832-4067-b281-4b8d77a6bae2",
   "metadata": {},
   "outputs": [
    {
     "name": "stdout",
     "output_type": "stream",
     "text": [
      "<class 'pandas.core.series.Series'>\n"
     ]
    }
   ],
   "source": [
    "print(type(s));"
   ]
  },
  {
   "cell_type": "code",
   "execution_count": 10,
   "id": "49f07b38-2b6c-4f6a-a299-9f4a1e3c9fc2",
   "metadata": {},
   "outputs": [],
   "source": [
    "s1 = pd.Series([34,78,90,45,67],index=[\"satish\",\"hari\",\"anil\",\"shubam\",\"sandy\"]);"
   ]
  },
  {
   "cell_type": "code",
   "execution_count": 12,
   "id": "13ac4dcc-1793-4a4e-ac20-049a4a7ebe4a",
   "metadata": {},
   "outputs": [
    {
     "name": "stdout",
     "output_type": "stream",
     "text": [
      "satish    34\n",
      "hari      78\n",
      "anil      90\n",
      "shubam    45\n",
      "sandy     67\n",
      "dtype: int64\n"
     ]
    }
   ],
   "source": [
    "print(s1);"
   ]
  },
  {
   "cell_type": "code",
   "execution_count": 14,
   "id": "dc67b964-1f3b-4efe-bfcc-65490a6566f1",
   "metadata": {},
   "outputs": [
    {
     "name": "stdout",
     "output_type": "stream",
     "text": [
      "34\n"
     ]
    }
   ],
   "source": [
    "print(s1[\"satish\"]);"
   ]
  },
  {
   "cell_type": "code",
   "execution_count": 17,
   "id": "74fe46a4-78c4-4eca-ac6c-6ecac0c1256c",
   "metadata": {},
   "outputs": [],
   "source": [
    "data = {\n",
    "    \"name\":[\"satish\",\"hari\",\"shiva\"],\n",
    "    \"age\":[45,67,55],\n",
    "    \"city\":[\"bombay\",\"chennai\",\"banglore\"]\n",
    "}"
   ]
  },
  {
   "cell_type": "code",
   "execution_count": 19,
   "id": "3854cc5c-58d5-4d13-845e-6324ec5ffc44",
   "metadata": {},
   "outputs": [],
   "source": [
    "table = pd.DataFrame(data);"
   ]
  },
  {
   "cell_type": "code",
   "execution_count": 21,
   "id": "a249b9d2-885a-4c4b-bc85-75f7cbc34e39",
   "metadata": {},
   "outputs": [
    {
     "name": "stdout",
     "output_type": "stream",
     "text": [
      "     name  age      city\n",
      "0  satish   45    bombay\n",
      "1    hari   67   chennai\n",
      "2   shiva   55  banglore\n"
     ]
    }
   ],
   "source": [
    "print(table);"
   ]
  },
  {
   "cell_type": "code",
   "execution_count": 24,
   "id": "846032c4-5df7-498a-b9f9-70905398eb34",
   "metadata": {},
   "outputs": [
    {
     "name": "stdout",
     "output_type": "stream",
     "text": [
      "<class 'pandas.core.frame.DataFrame'>\n"
     ]
    }
   ],
   "source": [
    "print(type(table));"
   ]
  },
  {
   "cell_type": "code",
   "execution_count": 26,
   "id": "551bec12-a37c-4bc4-ac14-6427976d5a20",
   "metadata": {},
   "outputs": [
    {
     "name": "stdout",
     "output_type": "stream",
     "text": [
      "Index(['name', 'age', 'city'], dtype='object')\n"
     ]
    }
   ],
   "source": [
    "print(table.columns);"
   ]
  },
  {
   "cell_type": "code",
   "execution_count": 28,
   "id": "c8178f06-c1c2-44d8-bea0-29fa2b3fb936",
   "metadata": {},
   "outputs": [
    {
     "name": "stdout",
     "output_type": "stream",
     "text": [
      "RangeIndex(start=0, stop=3, step=1)\n"
     ]
    }
   ],
   "source": [
    "print(table.index);"
   ]
  }
 ],
 "metadata": {
  "kernelspec": {
   "display_name": "Python [conda env:base] *",
   "language": "python",
   "name": "conda-base-py"
  },
  "language_info": {
   "codemirror_mode": {
    "name": "ipython",
    "version": 3
   },
   "file_extension": ".py",
   "mimetype": "text/x-python",
   "name": "python",
   "nbconvert_exporter": "python",
   "pygments_lexer": "ipython3",
   "version": "3.13.5"
  }
 },
 "nbformat": 4,
 "nbformat_minor": 5
}

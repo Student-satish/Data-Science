{
 "cells": [
  {
   "cell_type": "code",
   "execution_count": 7,
   "id": "525c39bb-0001-485f-a07e-c2b07a489c4a",
   "metadata": {},
   "outputs": [],
   "source": [
    "import pandas as pd"
   ]
  },
  {
   "cell_type": "code",
   "execution_count": 8,
   "id": "74689afa-53d1-45c3-8222-a650f5b4b7d0",
   "metadata": {},
   "outputs": [],
   "source": [
    "df = pd.read_csv(\"data2.csv\");\n"
   ]
  },
  {
   "cell_type": "code",
   "execution_count": 10,
   "id": "5baadad4-33db-4704-9b89-1ec63bacf2f2",
   "metadata": {},
   "outputs": [
    {
     "name": "stdout",
     "output_type": "stream",
     "text": [
      "                 Actor                      Film  Year            Genre  \\\n",
      "0       Shah Rukh Khan                   Pathaan  2023           Action   \n",
      "1          Salman Khan           Tiger Zinda Hai  2017           Action   \n",
      "2           Aamir Khan                    Dangal  2016        Biography   \n",
      "3        Ranbir Kapoor                Brahmastra  2022          Fantasy   \n",
      "4        Ranveer Singh                 Padmaavat  2018       Historical   \n",
      "5   Ayushmann Khurrana                 Andhadhun  2018         Thriller   \n",
      "6        Rajkummar Rao                     Stree  2018    Horror Comedy   \n",
      "7       Hrithik Roshan                       War  2019           Action   \n",
      "8         Akshay Kumar                Good Newwz  2019           Comedy   \n",
      "9        Kartik Aaryan         Bhool Bhulaiyaa 2  2022    Horror Comedy   \n",
      "10        Varun Dhawan     Badrinath Ki Dulhania  2017  Romantic Comedy   \n",
      "11       Vicky Kaushal  Uri: The Surgical Strike  2019           Action   \n",
      "\n",
      "    BoxOffice(INR Crore)  IMDb  \n",
      "0                   1050   7.2  \n",
      "1                    565   6.0  \n",
      "2                   2024   8.4  \n",
      "3                    431   5.6  \n",
      "4                    585   7.0  \n",
      "5                    111   8.3  \n",
      "6                    180   7.5  \n",
      "7                    475   6.5  \n",
      "8                    318   7.0  \n",
      "9                    266   5.9  \n",
      "10                   201   6.1  \n",
      "11                   342   8.2  \n"
     ]
    }
   ],
   "source": [
    "print(df);"
   ]
  },
  {
   "cell_type": "code",
   "execution_count": 18,
   "id": "33fd4b9c-3b5c-470a-8ed5-b16a9a459ad0",
   "metadata": {},
   "outputs": [
    {
     "name": "stdout",
     "output_type": "stream",
     "text": [
      "                 Actor                      Film  Year            Genre  \\\n",
      "0       Shah Rukh Khan                   Pathaan  2023           Action   \n",
      "3        Ranbir Kapoor                Brahmastra  2022          Fantasy   \n",
      "9        Kartik Aaryan         Bhool Bhulaiyaa 2  2022    Horror Comedy   \n",
      "7       Hrithik Roshan                       War  2019           Action   \n",
      "8         Akshay Kumar                Good Newwz  2019           Comedy   \n",
      "11       Vicky Kaushal  Uri: The Surgical Strike  2019           Action   \n",
      "6        Rajkummar Rao                     Stree  2018    Horror Comedy   \n",
      "5   Ayushmann Khurrana                 Andhadhun  2018         Thriller   \n",
      "4        Ranveer Singh                 Padmaavat  2018       Historical   \n",
      "1          Salman Khan           Tiger Zinda Hai  2017           Action   \n",
      "10        Varun Dhawan     Badrinath Ki Dulhania  2017  Romantic Comedy   \n",
      "2           Aamir Khan                    Dangal  2016        Biography   \n",
      "\n",
      "    BoxOffice(INR Crore)  IMDb  \n",
      "0                   1050   7.2  \n",
      "3                    431   5.6  \n",
      "9                    266   5.9  \n",
      "7                    475   6.5  \n",
      "8                    318   7.0  \n",
      "11                   342   8.2  \n",
      "6                    180   7.5  \n",
      "5                    111   8.3  \n",
      "4                    585   7.0  \n",
      "1                    565   6.0  \n",
      "10                   201   6.1  \n",
      "2                   2024   8.4  \n"
     ]
    }
   ],
   "source": [
    "print(df.sort_values(\"Year\",ascending=False));"
   ]
  },
  {
   "cell_type": "code",
   "execution_count": 19,
   "id": "5a7937c0-3ad7-4b00-99d7-d26e1997b69b",
   "metadata": {},
   "outputs": [
    {
     "name": "stdout",
     "output_type": "stream",
     "text": [
      "                 Actor                      Film  Year            Genre  \\\n",
      "2           Aamir Khan                    Dangal  2016        Biography   \n",
      "1          Salman Khan           Tiger Zinda Hai  2017           Action   \n",
      "10        Varun Dhawan     Badrinath Ki Dulhania  2017  Romantic Comedy   \n",
      "5   Ayushmann Khurrana                 Andhadhun  2018         Thriller   \n",
      "6        Rajkummar Rao                     Stree  2018    Horror Comedy   \n",
      "4        Ranveer Singh                 Padmaavat  2018       Historical   \n",
      "8         Akshay Kumar                Good Newwz  2019           Comedy   \n",
      "7       Hrithik Roshan                       War  2019           Action   \n",
      "11       Vicky Kaushal  Uri: The Surgical Strike  2019           Action   \n",
      "3        Ranbir Kapoor                Brahmastra  2022          Fantasy   \n",
      "9        Kartik Aaryan         Bhool Bhulaiyaa 2  2022    Horror Comedy   \n",
      "0       Shah Rukh Khan                   Pathaan  2023           Action   \n",
      "\n",
      "    BoxOffice(INR Crore)  IMDb  \n",
      "2                   2024   8.4  \n",
      "1                    565   6.0  \n",
      "10                   201   6.1  \n",
      "5                    111   8.3  \n",
      "6                    180   7.5  \n",
      "4                    585   7.0  \n",
      "8                    318   7.0  \n",
      "7                    475   6.5  \n",
      "11                   342   8.2  \n",
      "3                    431   5.6  \n",
      "9                    266   5.9  \n",
      "0                   1050   7.2  \n"
     ]
    }
   ],
   "source": [
    "# print the data in ascending order of year column\n",
    "\n",
    "print(df.sort_values(\"Year\"));"
   ]
  },
  {
   "cell_type": "code",
   "execution_count": 24,
   "id": "40ef0974-b7a9-4c3f-b5fb-972d0045234b",
   "metadata": {},
   "outputs": [],
   "source": [
    "# if we want to sort data by multiple column\n",
    "df2 = df.sort_values([\"Year\",\"IMDb\"],ascending=False);"
   ]
  },
  {
   "cell_type": "code",
   "execution_count": 25,
   "id": "cd2be0de-e213-49ac-89a2-5881132c8bc8",
   "metadata": {},
   "outputs": [
    {
     "name": "stdout",
     "output_type": "stream",
     "text": [
      "                 Actor                      Film  Year            Genre  \\\n",
      "0       Shah Rukh Khan                   Pathaan  2023           Action   \n",
      "9        Kartik Aaryan         Bhool Bhulaiyaa 2  2022    Horror Comedy   \n",
      "3        Ranbir Kapoor                Brahmastra  2022          Fantasy   \n",
      "11       Vicky Kaushal  Uri: The Surgical Strike  2019           Action   \n",
      "8         Akshay Kumar                Good Newwz  2019           Comedy   \n",
      "7       Hrithik Roshan                       War  2019           Action   \n",
      "5   Ayushmann Khurrana                 Andhadhun  2018         Thriller   \n",
      "6        Rajkummar Rao                     Stree  2018    Horror Comedy   \n",
      "4        Ranveer Singh                 Padmaavat  2018       Historical   \n",
      "10        Varun Dhawan     Badrinath Ki Dulhania  2017  Romantic Comedy   \n",
      "1          Salman Khan           Tiger Zinda Hai  2017           Action   \n",
      "2           Aamir Khan                    Dangal  2016        Biography   \n",
      "\n",
      "    BoxOffice(INR Crore)  IMDb  \n",
      "0                   1050   7.2  \n",
      "9                    266   5.9  \n",
      "3                    431   5.6  \n",
      "11                   342   8.2  \n",
      "8                    318   7.0  \n",
      "7                    475   6.5  \n",
      "5                    111   8.3  \n",
      "6                    180   7.5  \n",
      "4                    585   7.0  \n",
      "10                   201   6.1  \n",
      "1                    565   6.0  \n",
      "2                   2024   8.4  \n"
     ]
    }
   ],
   "source": [
    "print(df2);"
   ]
  },
  {
   "cell_type": "code",
   "execution_count": 33,
   "id": "bc82b1be-babc-4181-b1fd-45a17d32df2b",
   "metadata": {},
   "outputs": [],
   "source": [
    "df2 = df.sort_values(\"Year\");"
   ]
  },
  {
   "cell_type": "code",
   "execution_count": 34,
   "id": "30103f8c-7794-42ed-ada7-57857d8cc663",
   "metadata": {},
   "outputs": [
    {
     "name": "stdout",
     "output_type": "stream",
     "text": [
      "                 Actor                      Film  Year            Genre  \\\n",
      "2           Aamir Khan                    Dangal  2016        Biography   \n",
      "1          Salman Khan           Tiger Zinda Hai  2017           Action   \n",
      "10        Varun Dhawan     Badrinath Ki Dulhania  2017  Romantic Comedy   \n",
      "5   Ayushmann Khurrana                 Andhadhun  2018         Thriller   \n",
      "6        Rajkummar Rao                     Stree  2018    Horror Comedy   \n",
      "4        Ranveer Singh                 Padmaavat  2018       Historical   \n",
      "8         Akshay Kumar                Good Newwz  2019           Comedy   \n",
      "7       Hrithik Roshan                       War  2019           Action   \n",
      "11       Vicky Kaushal  Uri: The Surgical Strike  2019           Action   \n",
      "3        Ranbir Kapoor                Brahmastra  2022          Fantasy   \n",
      "9        Kartik Aaryan         Bhool Bhulaiyaa 2  2022    Horror Comedy   \n",
      "0       Shah Rukh Khan                   Pathaan  2023           Action   \n",
      "\n",
      "    BoxOffice(INR Crore)  IMDb  \n",
      "2                   2024   8.4  \n",
      "1                    565   6.0  \n",
      "10                   201   6.1  \n",
      "5                    111   8.3  \n",
      "6                    180   7.5  \n",
      "4                    585   7.0  \n",
      "8                    318   7.0  \n",
      "7                    475   6.5  \n",
      "11                   342   8.2  \n",
      "3                    431   5.6  \n",
      "9                    266   5.9  \n",
      "0                   1050   7.2  \n"
     ]
    }
   ],
   "source": [
    "print(df2);"
   ]
  },
  {
   "cell_type": "code",
   "execution_count": 35,
   "id": "9e72e6dc-80b2-4a41-ac15-b1f772aa582f",
   "metadata": {},
   "outputs": [
    {
     "name": "stdout",
     "output_type": "stream",
     "text": [
      "                 Actor                      Film  Year            Genre  \\\n",
      "0       Shah Rukh Khan                   Pathaan  2023           Action   \n",
      "1          Salman Khan           Tiger Zinda Hai  2017           Action   \n",
      "2           Aamir Khan                    Dangal  2016        Biography   \n",
      "3        Ranbir Kapoor                Brahmastra  2022          Fantasy   \n",
      "4        Ranveer Singh                 Padmaavat  2018       Historical   \n",
      "5   Ayushmann Khurrana                 Andhadhun  2018         Thriller   \n",
      "6        Rajkummar Rao                     Stree  2018    Horror Comedy   \n",
      "7       Hrithik Roshan                       War  2019           Action   \n",
      "8         Akshay Kumar                Good Newwz  2019           Comedy   \n",
      "9        Kartik Aaryan         Bhool Bhulaiyaa 2  2022    Horror Comedy   \n",
      "10        Varun Dhawan     Badrinath Ki Dulhania  2017  Romantic Comedy   \n",
      "11       Vicky Kaushal  Uri: The Surgical Strike  2019           Action   \n",
      "\n",
      "    BoxOffice(INR Crore)  IMDb  \n",
      "0                   1050   7.2  \n",
      "1                    565   6.0  \n",
      "2                   2024   8.4  \n",
      "3                    431   5.6  \n",
      "4                    585   7.0  \n",
      "5                    111   8.3  \n",
      "6                    180   7.5  \n",
      "7                    475   6.5  \n",
      "8                    318   7.0  \n",
      "9                    266   5.9  \n",
      "10                   201   6.1  \n",
      "11                   342   8.2  \n"
     ]
    }
   ],
   "source": [
    "print(df2.sort_index());"
   ]
  },
  {
   "cell_type": "code",
   "execution_count": 36,
   "id": "6ce91f4e-1db7-4c7c-9a9d-7693bed0e796",
   "metadata": {},
   "outputs": [
    {
     "name": "stdout",
     "output_type": "stream",
     "text": [
      "                 Actor                      Film  Year            Genre  \\\n",
      "2           Aamir Khan                    Dangal  2016        Biography   \n",
      "1          Salman Khan           Tiger Zinda Hai  2017           Action   \n",
      "10        Varun Dhawan     Badrinath Ki Dulhania  2017  Romantic Comedy   \n",
      "5   Ayushmann Khurrana                 Andhadhun  2018         Thriller   \n",
      "6        Rajkummar Rao                     Stree  2018    Horror Comedy   \n",
      "4        Ranveer Singh                 Padmaavat  2018       Historical   \n",
      "8         Akshay Kumar                Good Newwz  2019           Comedy   \n",
      "7       Hrithik Roshan                       War  2019           Action   \n",
      "11       Vicky Kaushal  Uri: The Surgical Strike  2019           Action   \n",
      "3        Ranbir Kapoor                Brahmastra  2022          Fantasy   \n",
      "9        Kartik Aaryan         Bhool Bhulaiyaa 2  2022    Horror Comedy   \n",
      "0       Shah Rukh Khan                   Pathaan  2023           Action   \n",
      "\n",
      "    BoxOffice(INR Crore)  IMDb  \n",
      "2                   2024   8.4  \n",
      "1                    565   6.0  \n",
      "10                   201   6.1  \n",
      "5                    111   8.3  \n",
      "6                    180   7.5  \n",
      "4                    585   7.0  \n",
      "8                    318   7.0  \n",
      "7                    475   6.5  \n",
      "11                   342   8.2  \n",
      "3                    431   5.6  \n",
      "9                    266   5.9  \n",
      "0                   1050   7.2  \n"
     ]
    }
   ],
   "source": [
    "# ranking\n",
    "print(df2);"
   ]
  },
  {
   "cell_type": "code",
   "execution_count": 37,
   "id": "c3e96f4b-67fc-416d-92e3-76a92ad657e6",
   "metadata": {},
   "outputs": [],
   "source": [
    "df2.sort_index(inplace=True);"
   ]
  },
  {
   "cell_type": "code",
   "execution_count": 38,
   "id": "5f9b0775-4251-430b-aad2-d37bf8c208cf",
   "metadata": {},
   "outputs": [
    {
     "name": "stdout",
     "output_type": "stream",
     "text": [
      "                 Actor                      Film  Year            Genre  \\\n",
      "0       Shah Rukh Khan                   Pathaan  2023           Action   \n",
      "1          Salman Khan           Tiger Zinda Hai  2017           Action   \n",
      "2           Aamir Khan                    Dangal  2016        Biography   \n",
      "3        Ranbir Kapoor                Brahmastra  2022          Fantasy   \n",
      "4        Ranveer Singh                 Padmaavat  2018       Historical   \n",
      "5   Ayushmann Khurrana                 Andhadhun  2018         Thriller   \n",
      "6        Rajkummar Rao                     Stree  2018    Horror Comedy   \n",
      "7       Hrithik Roshan                       War  2019           Action   \n",
      "8         Akshay Kumar                Good Newwz  2019           Comedy   \n",
      "9        Kartik Aaryan         Bhool Bhulaiyaa 2  2022    Horror Comedy   \n",
      "10        Varun Dhawan     Badrinath Ki Dulhania  2017  Romantic Comedy   \n",
      "11       Vicky Kaushal  Uri: The Surgical Strike  2019           Action   \n",
      "\n",
      "    BoxOffice(INR Crore)  IMDb  \n",
      "0                   1050   7.2  \n",
      "1                    565   6.0  \n",
      "2                   2024   8.4  \n",
      "3                    431   5.6  \n",
      "4                    585   7.0  \n",
      "5                    111   8.3  \n",
      "6                    180   7.5  \n",
      "7                    475   6.5  \n",
      "8                    318   7.0  \n",
      "9                    266   5.9  \n",
      "10                   201   6.1  \n",
      "11                   342   8.2  \n"
     ]
    }
   ],
   "source": [
    "print(df2);"
   ]
  },
  {
   "cell_type": "code",
   "execution_count": 44,
   "id": "d595d8bf-35c8-4fde-bca5-62653b1e755e",
   "metadata": {},
   "outputs": [],
   "source": [
    "df2[\"rank\"] = df2[\"IMDb\"].rank(ascending=False,method=\"dense\");"
   ]
  },
  {
   "cell_type": "code",
   "execution_count": 45,
   "id": "f2f4acdb-d08b-4536-8716-62e58b3a1fef",
   "metadata": {},
   "outputs": [
    {
     "name": "stdout",
     "output_type": "stream",
     "text": [
      "                 Actor                      Film  Year            Genre  \\\n",
      "0       Shah Rukh Khan                   Pathaan  2023           Action   \n",
      "1          Salman Khan           Tiger Zinda Hai  2017           Action   \n",
      "2           Aamir Khan                    Dangal  2016        Biography   \n",
      "3        Ranbir Kapoor                Brahmastra  2022          Fantasy   \n",
      "4        Ranveer Singh                 Padmaavat  2018       Historical   \n",
      "5   Ayushmann Khurrana                 Andhadhun  2018         Thriller   \n",
      "6        Rajkummar Rao                     Stree  2018    Horror Comedy   \n",
      "7       Hrithik Roshan                       War  2019           Action   \n",
      "8         Akshay Kumar                Good Newwz  2019           Comedy   \n",
      "9        Kartik Aaryan         Bhool Bhulaiyaa 2  2022    Horror Comedy   \n",
      "10        Varun Dhawan     Badrinath Ki Dulhania  2017  Romantic Comedy   \n",
      "11       Vicky Kaushal  Uri: The Surgical Strike  2019           Action   \n",
      "\n",
      "    BoxOffice(INR Crore)  IMDb  rank  \n",
      "0                   1050   7.2   5.0  \n",
      "1                    565   6.0   9.0  \n",
      "2                   2024   8.4   1.0  \n",
      "3                    431   5.6  11.0  \n",
      "4                    585   7.0   6.0  \n",
      "5                    111   8.3   2.0  \n",
      "6                    180   7.5   4.0  \n",
      "7                    475   6.5   7.0  \n",
      "8                    318   7.0   6.0  \n",
      "9                    266   5.9  10.0  \n",
      "10                   201   6.1   8.0  \n",
      "11                   342   8.2   3.0  \n"
     ]
    }
   ],
   "source": [
    "print(df2);"
   ]
  },
  {
   "cell_type": "code",
   "execution_count": 46,
   "id": "54a98dae-877d-44ca-897e-b01eca3551da",
   "metadata": {},
   "outputs": [
    {
     "name": "stdout",
     "output_type": "stream",
     "text": [
      "                 Actor                  FilmName  Year            Genre  \\\n",
      "0       Shah Rukh Khan                   Pathaan  2023           Action   \n",
      "1          Salman Khan           Tiger Zinda Hai  2017           Action   \n",
      "2           Aamir Khan                    Dangal  2016        Biography   \n",
      "3        Ranbir Kapoor                Brahmastra  2022          Fantasy   \n",
      "4        Ranveer Singh                 Padmaavat  2018       Historical   \n",
      "5   Ayushmann Khurrana                 Andhadhun  2018         Thriller   \n",
      "6        Rajkummar Rao                     Stree  2018    Horror Comedy   \n",
      "7       Hrithik Roshan                       War  2019           Action   \n",
      "8         Akshay Kumar                Good Newwz  2019           Comedy   \n",
      "9        Kartik Aaryan         Bhool Bhulaiyaa 2  2022    Horror Comedy   \n",
      "10        Varun Dhawan     Badrinath Ki Dulhania  2017  Romantic Comedy   \n",
      "11       Vicky Kaushal  Uri: The Surgical Strike  2019           Action   \n",
      "\n",
      "    BoxOffice(INR Crore)  IMDb  \n",
      "0                   1050   7.2  \n",
      "1                    565   6.0  \n",
      "2                   2024   8.4  \n",
      "3                    431   5.6  \n",
      "4                    585   7.0  \n",
      "5                    111   8.3  \n",
      "6                    180   7.5  \n",
      "7                    475   6.5  \n",
      "8                    318   7.0  \n",
      "9                    266   5.9  \n",
      "10                   201   6.1  \n",
      "11                   342   8.2  \n"
     ]
    }
   ],
   "source": [
    "print(df.rename(columns = {\"Film\":\"FilmName\"}));"
   ]
  },
  {
   "cell_type": "code",
   "execution_count": 49,
   "id": "9f0062a5-0cf8-4cef-b702-b9ea9831dbf8",
   "metadata": {},
   "outputs": [
    {
     "name": "stdout",
     "output_type": "stream",
     "text": [
      "                 Actor                      Film  Year            Genre  \\\n",
      "1       Shah Rukh Khan                   Pathaan  2023           Action   \n",
      "0          Salman Khan           Tiger Zinda Hai  2017           Action   \n",
      "2           Aamir Khan                    Dangal  2016        Biography   \n",
      "3        Ranbir Kapoor                Brahmastra  2022          Fantasy   \n",
      "4        Ranveer Singh                 Padmaavat  2018       Historical   \n",
      "5   Ayushmann Khurrana                 Andhadhun  2018         Thriller   \n",
      "6        Rajkummar Rao                     Stree  2018    Horror Comedy   \n",
      "7       Hrithik Roshan                       War  2019           Action   \n",
      "8         Akshay Kumar                Good Newwz  2019           Comedy   \n",
      "9        Kartik Aaryan         Bhool Bhulaiyaa 2  2022    Horror Comedy   \n",
      "10        Varun Dhawan     Badrinath Ki Dulhania  2017  Romantic Comedy   \n",
      "11       Vicky Kaushal  Uri: The Surgical Strike  2019           Action   \n",
      "\n",
      "    BoxOffice(INR Crore)  IMDb  \n",
      "1                   1050   7.2  \n",
      "0                    565   6.0  \n",
      "2                   2024   8.4  \n",
      "3                    431   5.6  \n",
      "4                    585   7.0  \n",
      "5                    111   8.3  \n",
      "6                    180   7.5  \n",
      "7                    475   6.5  \n",
      "8                    318   7.0  \n",
      "9                    266   5.9  \n",
      "10                   201   6.1  \n",
      "11                   342   8.2  \n"
     ]
    }
   ],
   "source": [
    "print(df.rename(index = {0:1,1:0}));"
   ]
  },
  {
   "cell_type": "code",
   "execution_count": 50,
   "id": "3dbedb21-bfee-4059-80b8-b69a44403c34",
   "metadata": {},
   "outputs": [
    {
     "name": "stdout",
     "output_type": "stream",
     "text": [
      "                 Actor                      Film  Year            Genre  \\\n",
      "0       Shah Rukh Khan                   Pathaan  2023           Action   \n",
      "1          Salman Khan           Tiger Zinda Hai  2017           Action   \n",
      "2           Aamir Khan                    Dangal  2016        Biography   \n",
      "3        Ranbir Kapoor                Brahmastra  2022          Fantasy   \n",
      "4        Ranveer Singh                 Padmaavat  2018       Historical   \n",
      "5   Ayushmann Khurrana                 Andhadhun  2018         Thriller   \n",
      "6        Rajkummar Rao                     Stree  2018    Horror Comedy   \n",
      "7       Hrithik Roshan                       War  2019           Action   \n",
      "8         Akshay Kumar                Good Newwz  2019           Comedy   \n",
      "9        Kartik Aaryan         Bhool Bhulaiyaa 2  2022    Horror Comedy   \n",
      "10        Varun Dhawan     Badrinath Ki Dulhania  2017  Romantic Comedy   \n",
      "11       Vicky Kaushal  Uri: The Surgical Strike  2019           Action   \n",
      "\n",
      "    BoxOffice(INR Crore)  IMDb  rank  \n",
      "0                   1050   7.2   5.0  \n",
      "1                    565   6.0   9.0  \n",
      "2                   2024   8.4   1.0  \n",
      "3                    431   5.6  11.0  \n",
      "4                    585   7.0   6.0  \n",
      "5                    111   8.3   2.0  \n",
      "6                    180   7.5   4.0  \n",
      "7                    475   6.5   7.0  \n",
      "8                    318   7.0   6.0  \n",
      "9                    266   5.9  10.0  \n",
      "10                   201   6.1   8.0  \n",
      "11                   342   8.2   3.0  \n"
     ]
    }
   ],
   "source": [
    "print(df2);"
   ]
  },
  {
   "cell_type": "code",
   "execution_count": 51,
   "id": "5765fff7-92b5-4d57-959b-425e17e02936",
   "metadata": {},
   "outputs": [],
   "source": [
    "df2.columns = [\"Actr\",\"film\",\"year\",\"genre\",\"collections\",\"rating\",\"rank\"];"
   ]
  },
  {
   "cell_type": "code",
   "execution_count": 52,
   "id": "4953641b-15a8-4aaf-9d63-3806c0b7c370",
   "metadata": {},
   "outputs": [
    {
     "name": "stdout",
     "output_type": "stream",
     "text": [
      "                  Actr                      film  year            genre  \\\n",
      "0       Shah Rukh Khan                   Pathaan  2023           Action   \n",
      "1          Salman Khan           Tiger Zinda Hai  2017           Action   \n",
      "2           Aamir Khan                    Dangal  2016        Biography   \n",
      "3        Ranbir Kapoor                Brahmastra  2022          Fantasy   \n",
      "4        Ranveer Singh                 Padmaavat  2018       Historical   \n",
      "5   Ayushmann Khurrana                 Andhadhun  2018         Thriller   \n",
      "6        Rajkummar Rao                     Stree  2018    Horror Comedy   \n",
      "7       Hrithik Roshan                       War  2019           Action   \n",
      "8         Akshay Kumar                Good Newwz  2019           Comedy   \n",
      "9        Kartik Aaryan         Bhool Bhulaiyaa 2  2022    Horror Comedy   \n",
      "10        Varun Dhawan     Badrinath Ki Dulhania  2017  Romantic Comedy   \n",
      "11       Vicky Kaushal  Uri: The Surgical Strike  2019           Action   \n",
      "\n",
      "    collections  rating  rank  \n",
      "0          1050     7.2   5.0  \n",
      "1           565     6.0   9.0  \n",
      "2          2024     8.4   1.0  \n",
      "3           431     5.6  11.0  \n",
      "4           585     7.0   6.0  \n",
      "5           111     8.3   2.0  \n",
      "6           180     7.5   4.0  \n",
      "7           475     6.5   7.0  \n",
      "8           318     7.0   6.0  \n",
      "9           266     5.9  10.0  \n",
      "10          201     6.1   8.0  \n",
      "11          342     8.2   3.0  \n"
     ]
    }
   ],
   "source": [
    "print(df2);"
   ]
  },
  {
   "cell_type": "code",
   "execution_count": 53,
   "id": "44af36ad-a5a6-484c-874c-98c5d2c871a7",
   "metadata": {},
   "outputs": [],
   "source": [
    "df2 = df2[[\"film\",\"Actr\",\"year\",\"genre\"]];"
   ]
  },
  {
   "cell_type": "code",
   "execution_count": 54,
   "id": "1d106361-20ff-430c-8edb-2b661a5bff9a",
   "metadata": {},
   "outputs": [
    {
     "name": "stdout",
     "output_type": "stream",
     "text": [
      "                        film                Actr  year            genre\n",
      "0                    Pathaan      Shah Rukh Khan  2023           Action\n",
      "1            Tiger Zinda Hai         Salman Khan  2017           Action\n",
      "2                     Dangal          Aamir Khan  2016        Biography\n",
      "3                 Brahmastra       Ranbir Kapoor  2022          Fantasy\n",
      "4                  Padmaavat       Ranveer Singh  2018       Historical\n",
      "5                  Andhadhun  Ayushmann Khurrana  2018         Thriller\n",
      "6                      Stree       Rajkummar Rao  2018    Horror Comedy\n",
      "7                        War      Hrithik Roshan  2019           Action\n",
      "8                 Good Newwz        Akshay Kumar  2019           Comedy\n",
      "9          Bhool Bhulaiyaa 2       Kartik Aaryan  2022    Horror Comedy\n",
      "10     Badrinath Ki Dulhania        Varun Dhawan  2017  Romantic Comedy\n",
      "11  Uri: The Surgical Strike       Vicky Kaushal  2019           Action\n"
     ]
    }
   ],
   "source": [
    "print(df2);"
   ]
  },
  {
   "cell_type": "code",
   "execution_count": null,
   "id": "8a76cb2c-8361-48ed-ac98-fcf3b4f2b1e3",
   "metadata": {},
   "outputs": [],
   "source": []
  }
 ],
 "metadata": {
  "kernelspec": {
   "display_name": "Python [conda env:base] *",
   "language": "python",
   "name": "conda-base-py"
  },
  "language_info": {
   "codemirror_mode": {
    "name": "ipython",
    "version": 3
   },
   "file_extension": ".py",
   "mimetype": "text/x-python",
   "name": "python",
   "nbconvert_exporter": "python",
   "pygments_lexer": "ipython3",
   "version": "3.13.5"
  }
 },
 "nbformat": 4,
 "nbformat_minor": 5
}

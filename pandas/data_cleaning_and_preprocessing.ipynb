{
 "cells": [
  {
   "cell_type": "code",
   "execution_count": 24,
   "id": "16e844d3-8884-407f-aff5-a42dc978c829",
   "metadata": {},
   "outputs": [],
   "source": [
    "import pandas as pd"
   ]
  },
  {
   "cell_type": "code",
   "execution_count": 51,
   "id": "b251b971-f726-4140-9cfd-0d0648371189",
   "metadata": {},
   "outputs": [],
   "source": [
    "df = pd.read_csv(\"data_cleaning_sample.csv\");"
   ]
  },
  {
   "cell_type": "code",
   "execution_count": 52,
   "id": "16143fd3-0acd-4e63-9f7b-598b20c2161b",
   "metadata": {},
   "outputs": [
    {
     "name": "stdout",
     "output_type": "stream",
     "text": [
      "      Name   Age         City Gender              Email   Join Date\n",
      "0    Alice  25.0     New York      F  alice@example.com  01-05-2021\n",
      "1  Charlie   NaN        Delhi      M    charlie@example  20-07-2021\n",
      "2      Bob  30.0  Los Angeles      M    bob@example.com  15-06-2020\n",
      "3  Charlie   NaN        Delhi      M    charlie@example  20-07-2021\n",
      "4    David  22.0       Mumbai      M  david@example.com  12-11-2019\n",
      "5      NaN  28.0        Delhi      F     eve@domain.com         NaN\n",
      "6    Alice  25.0     New York      F  alice@example.com  01-05-2021\n",
      "7    Alice  25.0     New York      F  alice@example.com  01-05-2021\n",
      "8  Charlie   NaN        Delhi      M    charlie@example  20-07-2021\n"
     ]
    }
   ],
   "source": [
    "print(df);"
   ]
  },
  {
   "cell_type": "code",
   "execution_count": 38,
   "id": "2ca6e0b7-2f75-49ab-a4c5-5782e9db6315",
   "metadata": {},
   "outputs": [
    {
     "name": "stdout",
     "output_type": "stream",
     "text": [
      "    Name    Age   City  Gender  Email  Join Date\n",
      "0  False  False  False   False  False      False\n",
      "1  False   True  False   False  False      False\n",
      "2  False  False  False   False  False      False\n",
      "3  False   True  False   False  False      False\n",
      "4  False  False  False   False  False      False\n",
      "5   True  False  False   False  False       True\n",
      "6  False  False  False   False  False      False\n",
      "7  False  False  False   False  False      False\n",
      "8  False   True  False   False  False      False\n"
     ]
    }
   ],
   "source": [
    "print(df.isnull());"
   ]
  },
  {
   "cell_type": "code",
   "execution_count": 39,
   "id": "2a756edd-d73f-4231-a60c-16a843660ab5",
   "metadata": {},
   "outputs": [],
   "source": [
    "df1 = df.isnull().sum();"
   ]
  },
  {
   "cell_type": "code",
   "execution_count": 40,
   "id": "f6b09af8-2f00-4195-901b-bfb481dfe803",
   "metadata": {},
   "outputs": [
    {
     "name": "stdout",
     "output_type": "stream",
     "text": [
      "Name         1\n",
      "Age          3\n",
      "City         0\n",
      "Gender       0\n",
      "Email        0\n",
      "Join Date    1\n",
      "dtype: int64\n"
     ]
    }
   ],
   "source": [
    "print(df1);"
   ]
  },
  {
   "cell_type": "code",
   "execution_count": 41,
   "id": "56db1fa6-5c59-4342-9471-9633723e9fa2",
   "metadata": {},
   "outputs": [],
   "source": [
    "df1 = df.dropna();"
   ]
  },
  {
   "cell_type": "code",
   "execution_count": 42,
   "id": "7b432a43-e263-4930-9d99-71457ff997aa",
   "metadata": {},
   "outputs": [
    {
     "name": "stdout",
     "output_type": "stream",
     "text": [
      "    Name   Age         City Gender              Email   Join Date\n",
      "0  Alice  25.0     New York      F  alice@example.com  01-05-2021\n",
      "2    Bob  30.0  Los Angeles      M    bob@example.com  15-06-2020\n",
      "4  David  22.0       Mumbai      M  david@example.com  12-11-2019\n",
      "6  Alice  25.0     New York      F  alice@example.com  01-05-2021\n",
      "7  Alice  25.0     New York      F  alice@example.com  01-05-2021\n"
     ]
    }
   ],
   "source": [
    "print(df1);"
   ]
  },
  {
   "cell_type": "code",
   "execution_count": 43,
   "id": "c0dba3c9-027a-4a48-bc78-e2104cba0952",
   "metadata": {},
   "outputs": [],
   "source": [
    "df1 = df.dropna(axis=1);"
   ]
  },
  {
   "cell_type": "code",
   "execution_count": 44,
   "id": "c34c80c2-002c-4fe4-a0ed-e7395d247e45",
   "metadata": {},
   "outputs": [
    {
     "name": "stdout",
     "output_type": "stream",
     "text": [
      "          City Gender              Email\n",
      "0     New York      F  alice@example.com\n",
      "1        Delhi      M    charlie@example\n",
      "2  Los Angeles      M    bob@example.com\n",
      "3        Delhi      M    charlie@example\n",
      "4       Mumbai      M  david@example.com\n",
      "5        Delhi      F     eve@domain.com\n",
      "6     New York      F  alice@example.com\n",
      "7     New York      F  alice@example.com\n",
      "8        Delhi      M    charlie@example\n"
     ]
    }
   ],
   "source": [
    "print(df1);"
   ]
  },
  {
   "cell_type": "code",
   "execution_count": 45,
   "id": "84b1ff94-6d48-4301-9ac4-5e85423c6f71",
   "metadata": {},
   "outputs": [
    {
     "name": "stdout",
     "output_type": "stream",
     "text": [
      "      Name   Age         City Gender              Email   Join Date\n",
      "0    Alice  25.0     New York      F  alice@example.com  01-05-2021\n",
      "1  Charlie   NaN        Delhi      M    charlie@example  20-07-2021\n",
      "2      Bob  30.0  Los Angeles      M    bob@example.com  15-06-2020\n",
      "3  Charlie   NaN        Delhi      M    charlie@example  20-07-2021\n",
      "4    David  22.0       Mumbai      M  david@example.com  12-11-2019\n",
      "5      NaN  28.0        Delhi      F     eve@domain.com         NaN\n",
      "6    Alice  25.0     New York      F  alice@example.com  01-05-2021\n",
      "7    Alice  25.0     New York      F  alice@example.com  01-05-2021\n",
      "8  Charlie   NaN        Delhi      M    charlie@example  20-07-2021\n"
     ]
    }
   ],
   "source": [
    "print(df);"
   ]
  },
  {
   "cell_type": "code",
   "execution_count": 47,
   "id": "ad13ea68-dc28-4ed3-8f95-03ede92bb279",
   "metadata": {},
   "outputs": [
    {
     "name": "stdout",
     "output_type": "stream",
     "text": [
      "      Name   Age         City Gender              Email   Join Date\n",
      "0    Alice  25.0     New York      F  alice@example.com  01-05-2021\n",
      "1  Charlie   NaN        Delhi      M    charlie@example  20-07-2021\n",
      "2      Bob  30.0  Los Angeles      M    bob@example.com  15-06-2020\n",
      "3  Charlie   NaN        Delhi      M    charlie@example  20-07-2021\n",
      "4    David  22.0       Mumbai      M  david@example.com  12-11-2019\n",
      "5      NaN  28.0        Delhi      F     eve@domain.com         NaN\n",
      "6    Alice  25.0     New York      F  alice@example.com  01-05-2021\n",
      "7    Alice  25.0     New York      F  alice@example.com  01-05-2021\n",
      "8  Charlie   NaN        Delhi      M    charlie@example  20-07-2021\n"
     ]
    }
   ],
   "source": [
    "print(df);"
   ]
  },
  {
   "cell_type": "code",
   "execution_count": 48,
   "id": "de76ec18-7ef4-4421-9b0d-16d68c6bcd6b",
   "metadata": {},
   "outputs": [
    {
     "name": "stdout",
     "output_type": "stream",
     "text": [
      "0    25.000000\n",
      "1    25.833333\n",
      "2    30.000000\n",
      "3    25.833333\n",
      "4    22.000000\n",
      "5    28.000000\n",
      "6    25.000000\n",
      "7    25.000000\n",
      "8    25.833333\n",
      "Name: Age, dtype: float64\n"
     ]
    }
   ],
   "source": [
    "print(df[\"Age\"].fillna(df[\"Age\"].mean()));"
   ]
  },
  {
   "cell_type": "code",
   "execution_count": 49,
   "id": "2ff45eb9-f0dc-460f-b8da-e0a51d96f794",
   "metadata": {},
   "outputs": [
    {
     "name": "stdout",
     "output_type": "stream",
     "text": [
      "      Name   Age         City Gender              Email   Join Date\n",
      "0    Alice  25.0     New York      F  alice@example.com  01-05-2021\n",
      "1  Charlie  25.0        Delhi      M    charlie@example  20-07-2021\n",
      "2      Bob  30.0  Los Angeles      M    bob@example.com  15-06-2020\n",
      "3  Charlie  30.0        Delhi      M    charlie@example  20-07-2021\n",
      "4    David  22.0       Mumbai      M  david@example.com  12-11-2019\n",
      "5    David  28.0        Delhi      F     eve@domain.com  12-11-2019\n",
      "6    Alice  25.0     New York      F  alice@example.com  01-05-2021\n",
      "7    Alice  25.0     New York      F  alice@example.com  01-05-2021\n",
      "8  Charlie  25.0        Delhi      M    charlie@example  20-07-2021\n"
     ]
    }
   ],
   "source": [
    "print(df.ffill());"
   ]
  },
  {
   "cell_type": "code",
   "execution_count": 50,
   "id": "63367279-dadc-4731-9f46-5a54203375dd",
   "metadata": {},
   "outputs": [
    {
     "name": "stdout",
     "output_type": "stream",
     "text": [
      "      Name   Age         City Gender              Email   Join Date\n",
      "0    Alice  25.0     New York      F  alice@example.com  01-05-2021\n",
      "1  Charlie  30.0        Delhi      M    charlie@example  20-07-2021\n",
      "2      Bob  30.0  Los Angeles      M    bob@example.com  15-06-2020\n",
      "3  Charlie  22.0        Delhi      M    charlie@example  20-07-2021\n",
      "4    David  22.0       Mumbai      M  david@example.com  12-11-2019\n",
      "5    Alice  28.0        Delhi      F     eve@domain.com  01-05-2021\n",
      "6    Alice  25.0     New York      F  alice@example.com  01-05-2021\n",
      "7    Alice  25.0     New York      F  alice@example.com  01-05-2021\n",
      "8  Charlie   NaN        Delhi      M    charlie@example  20-07-2021\n"
     ]
    }
   ],
   "source": [
    "print(df.bfill());"
   ]
  },
  {
   "cell_type": "code",
   "execution_count": 53,
   "id": "2ac4f148-53a1-47d9-a428-d967cca1cd1a",
   "metadata": {},
   "outputs": [
    {
     "name": "stdout",
     "output_type": "stream",
     "text": [
      "0    False\n",
      "1    False\n",
      "2    False\n",
      "3     True\n",
      "4    False\n",
      "5    False\n",
      "6     True\n",
      "7     True\n",
      "8     True\n",
      "dtype: bool\n"
     ]
    }
   ],
   "source": [
    "print(df.duplicated());"
   ]
  },
  {
   "cell_type": "code",
   "execution_count": 56,
   "id": "5221015f-52ae-40bc-bfd9-d48f45f8d7eb",
   "metadata": {},
   "outputs": [
    {
     "name": "stdout",
     "output_type": "stream",
     "text": [
      "      Name   Age         City Gender              Email   Join Date\n",
      "0    Alice  25.0     New York      F  alice@example.com  01-05-2021\n",
      "1  Charlie   NaN        Delhi      M    charlie@example  20-07-2021\n",
      "2      Bob  30.0  Los Angeles      M    bob@example.com  15-06-2020\n",
      "4    David  22.0       Mumbai      M  david@example.com  12-11-2019\n",
      "5      NaN  28.0        Delhi      F     eve@domain.com         NaN\n"
     ]
    }
   ],
   "source": [
    "print(df.drop_duplicates());"
   ]
  },
  {
   "cell_type": "code",
   "execution_count": 58,
   "id": "6a5080e1-2a2f-4eca-a41a-026d02aba931",
   "metadata": {},
   "outputs": [
    {
     "name": "stdout",
     "output_type": "stream",
     "text": [
      "0    False\n",
      "1    False\n",
      "2    False\n",
      "3     True\n",
      "4    False\n",
      "5    False\n",
      "6     True\n",
      "7     True\n",
      "8     True\n",
      "dtype: bool\n"
     ]
    }
   ],
   "source": [
    "print(df.duplicated(subset=[\"Age\",\"Name\"]));"
   ]
  },
  {
   "cell_type": "code",
   "execution_count": 59,
   "id": "2c97518d-7b5b-4e88-9862-6373e033e253",
   "metadata": {},
   "outputs": [
    {
     "name": "stdout",
     "output_type": "stream",
     "text": [
      "0      alice\n",
      "1    charlie\n",
      "2        bob\n",
      "3    charlie\n",
      "4      david\n",
      "5        NaN\n",
      "6      alice\n",
      "7      alice\n",
      "8    charlie\n",
      "Name: Name, dtype: object\n"
     ]
    }
   ],
   "source": [
    "print(df[\"Name\"].str.lower());"
   ]
  },
  {
   "cell_type": "code",
   "execution_count": 60,
   "id": "5a13c5b2-e343-4b29-aa87-a024d119cbcb",
   "metadata": {},
   "outputs": [
    {
     "name": "stdout",
     "output_type": "stream",
     "text": [
      "0    False\n",
      "1     True\n",
      "2    False\n",
      "3     True\n",
      "4    False\n",
      "5     True\n",
      "6    False\n",
      "7    False\n",
      "8     True\n",
      "Name: City, dtype: bool\n"
     ]
    }
   ],
   "source": [
    "print(df[\"City\"].str.contains(\"delhi\",case=False));"
   ]
  },
  {
   "cell_type": "code",
   "execution_count": 64,
   "id": "c2db7ad5-de5f-45b9-a6e0-0e243682c10c",
   "metadata": {},
   "outputs": [
    {
     "name": "stdout",
     "output_type": "stream",
     "text": [
      "['eve', 'domain.com']\n"
     ]
    }
   ],
   "source": [
    "print(df[\"Email\"].str.split(\"@\"));"
   ]
  },
  {
   "cell_type": "code",
   "execution_count": 65,
   "id": "ddd37870-6cf6-47c7-83bb-60ea845d5bc0",
   "metadata": {},
   "outputs": [],
   "source": [
    "df2 = df.dropna().copy();"
   ]
  },
  {
   "cell_type": "code",
   "execution_count": 67,
   "id": "7284df60-fea3-468b-94df-e12a535aeeb3",
   "metadata": {},
   "outputs": [],
   "source": [
    "df2[\"Age\"] = df2[\"Age\"].astype(int);"
   ]
  },
  {
   "cell_type": "code",
   "execution_count": 68,
   "id": "8c210137-9226-47da-8942-61b1957df0fa",
   "metadata": {},
   "outputs": [
    {
     "name": "stdout",
     "output_type": "stream",
     "text": [
      "    Name  Age         City Gender              Email   Join Date\n",
      "0  Alice   25     New York      F  alice@example.com  01-05-2021\n",
      "2    Bob   30  Los Angeles      M    bob@example.com  15-06-2020\n",
      "4  David   22       Mumbai      M  david@example.com  12-11-2019\n",
      "6  Alice   25     New York      F  alice@example.com  01-05-2021\n",
      "7  Alice   25     New York      F  alice@example.com  01-05-2021\n"
     ]
    }
   ],
   "source": [
    "print(df2);"
   ]
  },
  {
   "cell_type": "code",
   "execution_count": 72,
   "id": "1f4134b8-9a53-4848-a286-6f2cb8ac844e",
   "metadata": {},
   "outputs": [],
   "source": [
    "df2[\"Age Group\"] = df[\"Age\"].apply(lambda x:\"minor\" if x <= 18 else \"major\");"
   ]
  },
  {
   "cell_type": "code",
   "execution_count": 73,
   "id": "9fc67519-848c-4ecf-9af5-45f4fa5daeb1",
   "metadata": {},
   "outputs": [
    {
     "name": "stdout",
     "output_type": "stream",
     "text": [
      "    Name  Age         City Gender              Email   Join Date Age Group\n",
      "0  Alice   25     New York      F  alice@example.com  01-05-2021     major\n",
      "2    Bob   30  Los Angeles      M    bob@example.com  15-06-2020     major\n",
      "4  David   22       Mumbai      M  david@example.com  12-11-2019     major\n",
      "6  Alice   25     New York      F  alice@example.com  01-05-2021     major\n",
      "7  Alice   25     New York      F  alice@example.com  01-05-2021     major\n"
     ]
    }
   ],
   "source": [
    "print(df2);"
   ]
  },
  {
   "cell_type": "code",
   "execution_count": 74,
   "id": "b2671e1f-2175-4a23-800a-c5a45f3487d0",
   "metadata": {},
   "outputs": [],
   "source": [
    "gender_map = {\"F\" : \"Female\",\"M\":\"Male\"};\n",
    "df2[\"Gender\"] =  df2[\"Gender\"].map(gender_map);"
   ]
  },
  {
   "cell_type": "code",
   "execution_count": 75,
   "id": "ac0b1652-1191-48bd-ad26-60a0569d528f",
   "metadata": {},
   "outputs": [
    {
     "name": "stdout",
     "output_type": "stream",
     "text": [
      "    Name  Age         City  Gender              Email   Join Date Age Group\n",
      "0  Alice   25     New York  Female  alice@example.com  01-05-2021     major\n",
      "2    Bob   30  Los Angeles    Male    bob@example.com  15-06-2020     major\n",
      "4  David   22       Mumbai    Male  david@example.com  12-11-2019     major\n",
      "6  Alice   25     New York  Female  alice@example.com  01-05-2021     major\n",
      "7  Alice   25     New York  Female  alice@example.com  01-05-2021     major\n"
     ]
    }
   ],
   "source": [
    "print(df2);"
   ]
  },
  {
   "cell_type": "code",
   "execution_count": 77,
   "id": "65e46541-208a-4c2e-8ae1-e51bded68165",
   "metadata": {},
   "outputs": [
    {
     "ename": "SyntaxError",
     "evalue": "invalid syntax (1756288664.py, line 1)",
     "output_type": "error",
     "traceback": [
      "\u001b[1;36m  Cell \u001b[1;32mIn[77], line 1\u001b[1;36m\u001b[0m\n\u001b[1;33m    df2[\"City\"].replace(\"Mumbai\":\"Mum\");\u001b[0m\n\u001b[1;37m                                ^\u001b[0m\n\u001b[1;31mSyntaxError\u001b[0m\u001b[1;31m:\u001b[0m invalid syntax\n"
     ]
    }
   ],
   "source": [
    "df2[\"City\"].replace(\"Mumbai\":\"Mum\");"
   ]
  },
  {
   "cell_type": "code",
   "execution_count": null,
   "id": "fbc1af94-cd89-41c3-a202-837557caed9c",
   "metadata": {},
   "outputs": [],
   "source": []
  }
 ],
 "metadata": {
  "kernelspec": {
   "display_name": "Python [conda env:base] *",
   "language": "python",
   "name": "conda-base-py"
  },
  "language_info": {
   "codemirror_mode": {
    "name": "ipython",
    "version": 3
   },
   "file_extension": ".py",
   "mimetype": "text/x-python",
   "name": "python",
   "nbconvert_exporter": "python",
   "pygments_lexer": "ipython3",
   "version": "3.13.5"
  }
 },
 "nbformat": 4,
 "nbformat_minor": 5
}

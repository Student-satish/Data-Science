{
 "cells": [
  {
   "cell_type": "code",
   "execution_count": 1,
   "id": "3c9e7503-2b0b-4a00-b65c-df38c4a04d41",
   "metadata": {},
   "outputs": [],
   "source": [
    "import pandas as pd"
   ]
  },
  {
   "cell_type": "code",
   "execution_count": 3,
   "id": "eca2650b-d9fa-43c7-aec7-9c3547e1f84e",
   "metadata": {},
   "outputs": [],
   "source": [
    "df = pd.read_csv(\"data2.csv\");"
   ]
  },
  {
   "cell_type": "code",
   "execution_count": 4,
   "id": "e50c28f7-dfd0-4633-82b5-5c3c74b56a0d",
   "metadata": {},
   "outputs": [
    {
     "name": "stdout",
     "output_type": "stream",
     "text": [
      "                 Actor                      Film  Year            Genre  \\\n",
      "0       Shah Rukh Khan                   Pathaan  2023           Action   \n",
      "1          Salman Khan           Tiger Zinda Hai  2017           Action   \n",
      "2           Aamir Khan                    Dangal  2016        Biography   \n",
      "3        Ranbir Kapoor                Brahmastra  2022          Fantasy   \n",
      "4        Ranveer Singh                 Padmaavat  2018       Historical   \n",
      "5   Ayushmann Khurrana                 Andhadhun  2018         Thriller   \n",
      "6        Rajkummar Rao                     Stree  2018    Horror Comedy   \n",
      "7       Hrithik Roshan                       War  2019           Action   \n",
      "8         Akshay Kumar                Good Newwz  2019           Comedy   \n",
      "9        Kartik Aaryan         Bhool Bhulaiyaa 2  2022    Horror Comedy   \n",
      "10        Varun Dhawan     Badrinath Ki Dulhania  2017  Romantic Comedy   \n",
      "11       Vicky Kaushal  Uri: The Surgical Strike  2019           Action   \n",
      "\n",
      "    BoxOffice(INR Crore)  IMDb  \n",
      "0                   1050   7.2  \n",
      "1                    565   6.0  \n",
      "2                   2024   8.4  \n",
      "3                    431   5.6  \n",
      "4                    585   7.0  \n",
      "5                    111   8.3  \n",
      "6                    180   7.5  \n",
      "7                    475   6.5  \n",
      "8                    318   7.0  \n",
      "9                    266   5.9  \n",
      "10                   201   6.1  \n",
      "11                   342   8.2  \n"
     ]
    }
   ],
   "source": [
    "print(df);"
   ]
  },
  {
   "cell_type": "code",
   "execution_count": 5,
   "id": "440144af-1616-4d5a-a052-410330096eae",
   "metadata": {},
   "outputs": [
    {
     "data": {
      "text/plain": [
       "0         Shah Rukh Khan\n",
       "1            Salman Khan\n",
       "2             Aamir Khan\n",
       "3          Ranbir Kapoor\n",
       "4          Ranveer Singh\n",
       "5     Ayushmann Khurrana\n",
       "6          Rajkummar Rao\n",
       "7         Hrithik Roshan\n",
       "8           Akshay Kumar\n",
       "9          Kartik Aaryan\n",
       "10          Varun Dhawan\n",
       "11         Vicky Kaushal\n",
       "Name: Actor, dtype: object"
      ]
     },
     "execution_count": 5,
     "metadata": {},
     "output_type": "execute_result"
    }
   ],
   "source": [
    "df[\"Actor\"]"
   ]
  },
  {
   "cell_type": "code",
   "execution_count": 15,
   "id": "c719289a-b68f-4783-9b4d-5334861d6c5c",
   "metadata": {},
   "outputs": [],
   "source": [
    "df1 = df[[\"Actor\",\"Film\",\"IMDb\"]];"
   ]
  },
  {
   "cell_type": "code",
   "execution_count": 16,
   "id": "3b60b7a6-8a9c-40f9-bc27-8795fe1eee9e",
   "metadata": {},
   "outputs": [
    {
     "name": "stdout",
     "output_type": "stream",
     "text": [
      "                 Actor                      Film  IMDb\n",
      "0       Shah Rukh Khan                   Pathaan   7.2\n",
      "1          Salman Khan           Tiger Zinda Hai   6.0\n",
      "2           Aamir Khan                    Dangal   8.4\n",
      "3        Ranbir Kapoor                Brahmastra   5.6\n",
      "4        Ranveer Singh                 Padmaavat   7.0\n",
      "5   Ayushmann Khurrana                 Andhadhun   8.3\n",
      "6        Rajkummar Rao                     Stree   7.5\n",
      "7       Hrithik Roshan                       War   6.5\n",
      "8         Akshay Kumar                Good Newwz   7.0\n",
      "9        Kartik Aaryan         Bhool Bhulaiyaa 2   5.9\n",
      "10        Varun Dhawan     Badrinath Ki Dulhania   6.1\n",
      "11       Vicky Kaushal  Uri: The Surgical Strike   8.2\n"
     ]
    }
   ],
   "source": [
    "print(df1);"
   ]
  },
  {
   "cell_type": "code",
   "execution_count": 23,
   "id": "777a1288-c0bf-4e85-988c-1fe9ce0c5c8a",
   "metadata": {},
   "outputs": [],
   "source": [
    "df1 = df.loc[11];"
   ]
  },
  {
   "cell_type": "code",
   "execution_count": 24,
   "id": "58f43e0b-57f3-4503-b03a-a4aedfc60e1b",
   "metadata": {},
   "outputs": [
    {
     "name": "stdout",
     "output_type": "stream",
     "text": [
      "Actor                              Vicky Kaushal\n",
      "Film                    Uri: The Surgical Strike\n",
      "Year                                        2019\n",
      "Genre                                     Action\n",
      "BoxOffice(INR Crore)                         342\n",
      "IMDb                                         8.2\n",
      "Name: 11, dtype: object\n"
     ]
    }
   ],
   "source": [
    "print(df1);"
   ]
  },
  {
   "cell_type": "code",
   "execution_count": 25,
   "id": "3e37f3f0-5216-4f9b-bbf5-2c291a448afc",
   "metadata": {},
   "outputs": [],
   "source": [
    "df1 = df.iloc[0];"
   ]
  },
  {
   "cell_type": "code",
   "execution_count": 26,
   "id": "f70e2167-0f29-4f23-a6ba-5ed975a15337",
   "metadata": {},
   "outputs": [
    {
     "name": "stdout",
     "output_type": "stream",
     "text": [
      "Actor                   Shah Rukh Khan\n",
      "Film                           Pathaan\n",
      "Year                              2023\n",
      "Genre                           Action\n",
      "BoxOffice(INR Crore)              1050\n",
      "IMDb                               7.2\n",
      "Name: 0, dtype: object\n"
     ]
    }
   ],
   "source": [
    "print(df1);"
   ]
  },
  {
   "cell_type": "code",
   "execution_count": 28,
   "id": "9b70aa3a-8fa2-4cf5-affe-f657c3251b24",
   "metadata": {},
   "outputs": [
    {
     "name": "stdout",
     "output_type": "stream",
     "text": [
      "                 Actor                      Film  Year            Genre  \\\n",
      "0       Shah Rukh Khan                   Pathaan  2023           Action   \n",
      "1          Salman Khan           Tiger Zinda Hai  2017           Action   \n",
      "2           Aamir Khan                    Dangal  2016        Biography   \n",
      "3        Ranbir Kapoor                Brahmastra  2022          Fantasy   \n",
      "4        Ranveer Singh                 Padmaavat  2018       Historical   \n",
      "5   Ayushmann Khurrana                 Andhadhun  2018         Thriller   \n",
      "6        Rajkummar Rao                     Stree  2018    Horror Comedy   \n",
      "7       Hrithik Roshan                       War  2019           Action   \n",
      "8         Akshay Kumar                Good Newwz  2019           Comedy   \n",
      "9        Kartik Aaryan         Bhool Bhulaiyaa 2  2022    Horror Comedy   \n",
      "10        Varun Dhawan     Badrinath Ki Dulhania  2017  Romantic Comedy   \n",
      "11       Vicky Kaushal  Uri: The Surgical Strike  2019           Action   \n",
      "\n",
      "    BoxOffice(INR Crore)  IMDb  \n",
      "0                   1050   7.2  \n",
      "1                    565   6.0  \n",
      "2                   2024   8.4  \n",
      "3                    431   5.6  \n",
      "4                    585   7.0  \n",
      "5                    111   8.3  \n",
      "6                    180   7.5  \n",
      "7                    475   6.5  \n",
      "8                    318   7.0  \n",
      "9                    266   5.9  \n",
      "10                   201   6.1  \n",
      "11                   342   8.2  \n"
     ]
    }
   ],
   "source": [
    " print(df);"
   ]
  },
  {
   "cell_type": "code",
   "execution_count": 29,
   "id": "a9432657-20cc-4b39-bf41-48fd3f6902f0",
   "metadata": {},
   "outputs": [
    {
     "name": "stdout",
     "output_type": "stream",
     "text": [
      "            Actor\n",
      "0  Shah Rukh Khan\n",
      "1     Salman Khan\n",
      "2      Aamir Khan\n"
     ]
    }
   ],
   "source": [
    "print(df.loc[0:2,[\"Actor\"]])"
   ]
  },
  {
   "cell_type": "code",
   "execution_count": 30,
   "id": "13d2a7ad-ec4d-4daa-a634-256b6f72bf60",
   "metadata": {},
   "outputs": [
    {
     "name": "stdout",
     "output_type": "stream",
     "text": [
      "            Actor             Film\n",
      "0  Shah Rukh Khan          Pathaan\n",
      "1     Salman Khan  Tiger Zinda Hai\n"
     ]
    }
   ],
   "source": [
    "print(df.iloc[0:2,0:2])"
   ]
  },
  {
   "cell_type": "code",
   "execution_count": 31,
   "id": "495829fa-bfcd-41df-9dc2-8598006d1c2f",
   "metadata": {},
   "outputs": [
    {
     "name": "stdout",
     "output_type": "stream",
     "text": [
      "Pathaan\n"
     ]
    }
   ],
   "source": [
    "print(df.at[0,\"Film\"]);"
   ]
  },
  {
   "cell_type": "code",
   "execution_count": 33,
   "id": "0c0e2f82-c89a-4060-b182-936ba53a53e5",
   "metadata": {},
   "outputs": [
    {
     "name": "stdout",
     "output_type": "stream",
     "text": [
      "Pathaan\n"
     ]
    }
   ],
   "source": [
    "print(df.iat[0,1]);"
   ]
  },
  {
   "cell_type": "code",
   "execution_count": 35,
   "id": "859011a9-816d-4790-8830-eb33fbbc6634",
   "metadata": {},
   "outputs": [],
   "source": [
    "# filetering with conditions\n",
    "df1 = df[df[\"Year\"] > 2017];"
   ]
  },
  {
   "cell_type": "code",
   "execution_count": 37,
   "id": "4443cdcf-ebd1-42e6-a0ad-1926b8d2901a",
   "metadata": {},
   "outputs": [
    {
     "name": "stdout",
     "output_type": "stream",
     "text": [
      "                 Actor                      Film  Year          Genre  \\\n",
      "0       Shah Rukh Khan                   Pathaan  2023         Action   \n",
      "3        Ranbir Kapoor                Brahmastra  2022        Fantasy   \n",
      "4        Ranveer Singh                 Padmaavat  2018     Historical   \n",
      "5   Ayushmann Khurrana                 Andhadhun  2018       Thriller   \n",
      "6        Rajkummar Rao                     Stree  2018  Horror Comedy   \n",
      "7       Hrithik Roshan                       War  2019         Action   \n",
      "8         Akshay Kumar                Good Newwz  2019         Comedy   \n",
      "9        Kartik Aaryan         Bhool Bhulaiyaa 2  2022  Horror Comedy   \n",
      "11       Vicky Kaushal  Uri: The Surgical Strike  2019         Action   \n",
      "\n",
      "    BoxOffice(INR Crore)  IMDb  \n",
      "0                   1050   7.2  \n",
      "3                    431   5.6  \n",
      "4                    585   7.0  \n",
      "5                    111   8.3  \n",
      "6                    180   7.5  \n",
      "7                    475   6.5  \n",
      "8                    318   7.0  \n",
      "9                    266   5.9  \n",
      "11                   342   8.2  \n"
     ]
    }
   ],
   "source": [
    "print(df1);"
   ]
  },
  {
   "cell_type": "code",
   "execution_count": 40,
   "id": "b7c9cba7-450f-4a6b-be51-f0b6c7cc6a77",
   "metadata": {},
   "outputs": [],
   "source": [
    "df1 = df[(df[\"Genre\"] == \"Action\") & (df[\"Year\"] > 2019)];"
   ]
  },
  {
   "cell_type": "code",
   "execution_count": 41,
   "id": "17cce238-98cc-48e7-8b4e-989266d05784",
   "metadata": {},
   "outputs": [
    {
     "name": "stdout",
     "output_type": "stream",
     "text": [
      "            Actor     Film  Year   Genre  BoxOffice(INR Crore)  IMDb\n",
      "0  Shah Rukh Khan  Pathaan  2023  Action                  1050   7.2\n"
     ]
    }
   ],
   "source": [
    "print(df1);"
   ]
  },
  {
   "cell_type": "code",
   "execution_count": 42,
   "id": "27d4a76b-9d0e-4983-b2e5-524cdd2eb858",
   "metadata": {},
   "outputs": [],
   "source": [
    "df1 = df[(df[\"IMDb\"] > 7)  | (df[\"Year\"] > 2018)];"
   ]
  },
  {
   "cell_type": "code",
   "execution_count": 43,
   "id": "9d33ff4c-cf4e-402a-8c3e-25ef91ab5845",
   "metadata": {},
   "outputs": [
    {
     "name": "stdout",
     "output_type": "stream",
     "text": [
      "                 Actor                      Film  Year          Genre  \\\n",
      "0       Shah Rukh Khan                   Pathaan  2023         Action   \n",
      "2           Aamir Khan                    Dangal  2016      Biography   \n",
      "3        Ranbir Kapoor                Brahmastra  2022        Fantasy   \n",
      "5   Ayushmann Khurrana                 Andhadhun  2018       Thriller   \n",
      "6        Rajkummar Rao                     Stree  2018  Horror Comedy   \n",
      "7       Hrithik Roshan                       War  2019         Action   \n",
      "8         Akshay Kumar                Good Newwz  2019         Comedy   \n",
      "9        Kartik Aaryan         Bhool Bhulaiyaa 2  2022  Horror Comedy   \n",
      "11       Vicky Kaushal  Uri: The Surgical Strike  2019         Action   \n",
      "\n",
      "    BoxOffice(INR Crore)  IMDb  \n",
      "0                   1050   7.2  \n",
      "2                   2024   8.4  \n",
      "3                    431   5.6  \n",
      "5                    111   8.3  \n",
      "6                    180   7.5  \n",
      "7                    475   6.5  \n",
      "8                    318   7.0  \n",
      "9                    266   5.9  \n",
      "11                   342   8.2  \n"
     ]
    }
   ],
   "source": [
    "print(df1);"
   ]
  },
  {
   "cell_type": "code",
   "execution_count": 44,
   "id": "bde3c169-0c11-4889-8570-ced5812731a7",
   "metadata": {},
   "outputs": [],
   "source": [
    "df1 = df.query(\"IMDb > 7\");"
   ]
  },
  {
   "cell_type": "code",
   "execution_count": 45,
   "id": "a69c30ec-1bf7-4283-82a5-30409c2f71d6",
   "metadata": {},
   "outputs": [
    {
     "name": "stdout",
     "output_type": "stream",
     "text": [
      "                 Actor                      Film  Year          Genre  \\\n",
      "0       Shah Rukh Khan                   Pathaan  2023         Action   \n",
      "2           Aamir Khan                    Dangal  2016      Biography   \n",
      "5   Ayushmann Khurrana                 Andhadhun  2018       Thriller   \n",
      "6        Rajkummar Rao                     Stree  2018  Horror Comedy   \n",
      "11       Vicky Kaushal  Uri: The Surgical Strike  2019         Action   \n",
      "\n",
      "    BoxOffice(INR Crore)  IMDb  \n",
      "0                   1050   7.2  \n",
      "2                   2024   8.4  \n",
      "5                    111   8.3  \n",
      "6                    180   7.5  \n",
      "11                   342   8.2  \n"
     ]
    }
   ],
   "source": [
    "print(df1);"
   ]
  },
  {
   "cell_type": "code",
   "execution_count": 49,
   "id": "7304fae1-d2fd-4bb6-9c0e-41816a8e633f",
   "metadata": {},
   "outputs": [],
   "source": [
    "col = \"Actor\"\n",
    "df1 = df.query(f\"{col} == 'Aamir Khan'\");"
   ]
  },
  {
   "cell_type": "code",
   "execution_count": 50,
   "id": "3864cded-1758-46de-9b64-af5a22e66a17",
   "metadata": {},
   "outputs": [
    {
     "name": "stdout",
     "output_type": "stream",
     "text": [
      "        Actor    Film  Year      Genre  BoxOffice(INR Crore)  IMDb\n",
      "2  Aamir Khan  Dangal  2016  Biography                  2024   8.4\n"
     ]
    }
   ],
   "source": [
    "print(df1);"
   ]
  },
  {
   "cell_type": "code",
   "execution_count": null,
   "id": "5da19eea-3e6a-41eb-a603-7c02843bf4c9",
   "metadata": {},
   "outputs": [],
   "source": []
  }
 ],
 "metadata": {
  "kernelspec": {
   "display_name": "Python [conda env:base] *",
   "language": "python",
   "name": "conda-base-py"
  },
  "language_info": {
   "codemirror_mode": {
    "name": "ipython",
    "version": 3
   },
   "file_extension": ".py",
   "mimetype": "text/x-python",
   "name": "python",
   "nbconvert_exporter": "python",
   "pygments_lexer": "ipython3",
   "version": "3.13.5"
  }
 },
 "nbformat": 4,
 "nbformat_minor": 5
}
